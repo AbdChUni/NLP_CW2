{
 "cells": [
  {
   "cell_type": "markdown",
   "id": "a24958d4",
   "metadata": {},
   "source": [
    "Link to Kaggle Challenge: https://www.kaggle.com/c/jigsaw-toxic-comment-classification-challenge"
   ]
  },
  {
   "cell_type": "markdown",
   "id": "1e6973a6",
   "metadata": {
    "id": "1e6973a6"
   },
   "source": [
    "# 1. BiLSTM"
   ]
  },
  {
   "cell_type": "code",
   "execution_count": null,
   "id": "5697d743",
   "metadata": {
    "id": "5697d743"
   },
   "outputs": [],
   "source": [
    "# importing libraries for BiLSTM\n",
    "\n",
    "import keras\n",
    "from keras.layers import Embedding\n",
    "from keras.layers import Dense, Flatten, LSTM\n",
    "from keras.layers import Input, GlobalMaxPool1D, Dropout\n",
    "from keras.layers import Activation\n",
    "from keras.layers import Bidirectional\n",
    "from keras.layers import BatchNormalization\n",
    "from keras.models import Model, Sequential\n",
    "from keras.callbacks import ModelCheckpoint\n",
    "from keras import optimizers\n",
    "import numpy as np \n",
    "import os\n",
    "import pandas as pd"
   ]
  },
  {
   "cell_type": "code",
   "execution_count": 3,
   "id": "N5CsyqBDbmyE",
   "metadata": {
    "colab": {
     "base_uri": "https://localhost:8080/"
    },
    "id": "N5CsyqBDbmyE",
    "outputId": "436bd5b5-82b4-4fce-93cc-97b9c4499063"
   },
   "outputs": [
    {
     "name": "stdout",
     "output_type": "stream",
     "text": [
      "Mounted at /content/drive\n"
     ]
    }
   ],
   "source": [
    "# from google.colab import drive\n",
    "# drive.mount('/content/drive')"
   ]
  },
  {
   "cell_type": "code",
   "execution_count": null,
   "id": "122b6c52",
   "metadata": {
    "id": "122b6c52"
   },
   "outputs": [],
   "source": [
    "# reading data files\n",
    "df_train = pd.read_csv('/content/drive/MyDrive/Coventry University/NLP CW 2/train.csv')\n",
    "df_test = pd.read_csv('/content/drive/MyDrive/Coventry University/NLP CW 2/test.csv')"
   ]
  },
  {
   "cell_type": "code",
   "execution_count": null,
   "id": "349af932",
   "metadata": {
    "id": "349af932"
   },
   "outputs": [],
   "source": [
    "# dividing training data into features X and label y\n",
    "X_train = df_train['comment_text'] \n",
    "X_test = df_test['comment_text'] \n",
    "y_train = df_train[['toxic', 'severe_toxic', 'obscene', 'threat', 'insult', 'identity_hate']].values"
   ]
  },
  {
   "cell_type": "markdown",
   "id": "fd830e5b",
   "metadata": {
    "id": "fd830e5b"
   },
   "source": [
    "### PREPROCESSING"
   ]
  },
  {
   "cell_type": "code",
   "execution_count": null,
   "id": "5eaad5cc",
   "metadata": {
    "id": "5eaad5cc"
   },
   "outputs": [],
   "source": [
    "# importing tokenizer class from keras api\n",
    "from keras.preprocessing.text import Tokenizer"
   ]
  },
  {
   "cell_type": "code",
   "execution_count": null,
   "id": "aa7bf37e",
   "metadata": {
    "id": "aa7bf37e"
   },
   "outputs": [],
   "source": [
    "# calculating the vocabulary size which will be given as an input to the Embedding layer\n",
    "\n",
    "tokens = Tokenizer() \n",
    "tokens.fit_on_texts(X_train)\n",
    "vocab_size = len(tokens.word_index) + 1 \n",
    "# converting our tokens into sequence of integers\n",
    "tokenized_train = tokens.texts_to_sequences(X_train) \n",
    "tokenized_test = tokens.texts_to_sequences(X_test)"
   ]
  },
  {
   "cell_type": "code",
   "execution_count": null,
   "id": "022aec1f",
   "metadata": {
    "colab": {
     "base_uri": "https://localhost:8080/"
    },
    "id": "022aec1f",
    "outputId": "b079aebe-ed90-41df-a3fc-6553d6052bd2"
   },
   "outputs": [
    {
     "name": "stdout",
     "output_type": "stream",
     "text": [
      "COCKSUCKER BEFORE YOU PISS AROUND ON MY WORK\n",
      "----------------------------------------------------------------------------------------------------\n",
      "[1873, 147, 6, 3476, 324, 15, 29, 141]\n"
     ]
    }
   ],
   "source": [
    "print(X_train[6]) # text\n",
    "print('---------------------------------------------------------------------------------------------------')\n",
    "print(tokenized_train[6]) # corresponding comment (vectorized)"
   ]
  },
  {
   "cell_type": "markdown",
   "id": "b72b49ba",
   "metadata": {
    "id": "b72b49ba"
   },
   "source": [
    "\n",
    "we can observe the size of each vector is different,\n",
    "\n",
    "but our model expects the size of our input data to be same,\n",
    "\n",
    "so we will be doing padding.\n"
   ]
  },
  {
   "cell_type": "code",
   "execution_count": null,
   "id": "5264c55c",
   "metadata": {
    "id": "5264c55c"
   },
   "outputs": [],
   "source": [
    "# importing the pad_sequences class from keras api\n",
    "from keras.preprocessing.sequence import pad_sequences"
   ]
  },
  {
   "cell_type": "code",
   "execution_count": null,
   "id": "ec215bb2",
   "metadata": {
    "id": "ec215bb2"
   },
   "outputs": [],
   "source": [
    "# max length of the padded sequence that we want \n",
    "max_len = 300 \n",
    "# padding our sequences with zeros\n",
    "padded_train = pad_sequences(tokenized_train, maxlen = max_len, padding = 'post') \n",
    "padded_test = pad_sequences(tokenized_test, maxlen = max_len)"
   ]
  },
  {
   "cell_type": "code",
   "execution_count": null,
   "id": "3534580f",
   "metadata": {
    "colab": {
     "base_uri": "https://localhost:8080/"
    },
    "id": "3534580f",
    "outputId": "0b930015-1714-4611-a7cb-2fbc73f5a7e3"
   },
   "outputs": [
    {
     "data": {
      "text/plain": [
       "array([[  688,    75,     1, ...,     0,     0,     0],\n",
       "       [96145,    52,  2635, ...,     0,     0,     0],\n",
       "       [  412,   437,    73, ...,     0,     0,     0],\n",
       "       ...,\n",
       "       [   20,   199,     2, ...,     0,     0,     0],\n",
       "       [  263,    22,     1, ...,     0,     0,     0],\n",
       "       [10960,    15,    13, ...,     0,     0,     0]], dtype=int32)"
      ]
     },
     "execution_count": 15,
     "metadata": {},
     "output_type": "execute_result"
    }
   ],
   "source": [
    "padded_train[:10]"
   ]
  },
  {
   "cell_type": "markdown",
   "id": "7f87c555",
   "metadata": {
    "id": "7f87c555"
   },
   "source": [
    "### USING PRE-TRAINED WORD EMBEDDINGS"
   ]
  },
  {
   "cell_type": "code",
   "execution_count": null,
   "id": "fffc49dc",
   "metadata": {
    "id": "fffc49dc"
   },
   "outputs": [],
   "source": [
    "import numpy as np\n",
    "\n",
    "embedding_dim = 50\n",
    "vocab_size = len(tokens.word_index) + 1 \n",
    "embedding_matrix = np.zeros((vocab_size, embedding_dim))\n",
    "\n",
    "\n",
    "\n",
    "# THANK YOU SO MUCH FOR LAB 4.1 :D\n",
    "\n",
    "with open('/content/drive/MyDrive/Colab Notebooks/glove.6B.50d.txt', encoding = 'utf-8') as f:\n",
    "    for line in f:\n",
    "        word, *vector = line.split()\n",
    "        if word in tokens.word_index:\n",
    "            idx = tokens.word_index[word]\n",
    "            embedding_matrix[idx] = np.array(vector, dtype = np.float32)[:embedding_dim]"
   ]
  },
  {
   "cell_type": "markdown",
   "id": "3c0e7ab2",
   "metadata": {
    "id": "3c0e7ab2"
   },
   "source": [
    "### Implementing Bidirectional LSTM's"
   ]
  },
  {
   "cell_type": "code",
   "execution_count": null,
   "id": "280178ac",
   "metadata": {
    "colab": {
     "base_uri": "https://localhost:8080/"
    },
    "id": "280178ac",
    "outputId": "80394d5c-dccc-4623-b2c5-2ceda7c70d40"
   },
   "outputs": [
    {
     "name": "stdout",
     "output_type": "stream",
     "text": [
      "Model: \"sequential\"\n",
      "_________________________________________________________________\n",
      " Layer (type)                Output Shape              Param #   \n",
      "=================================================================\n",
      " embedding (Embedding)       (None, 300, 50)           10516900  \n",
      "                                                                 \n",
      " bidirectional (Bidirection  (None, 300, 100)          40400     \n",
      " al)                                                             \n",
      "                                                                 \n",
      " global_max_pooling1d (Glob  (None, 100)               0         \n",
      " alMaxPooling1D)                                                 \n",
      "                                                                 \n",
      " batch_normalization (Batch  (None, 100)               400       \n",
      " Normalization)                                                  \n",
      "                                                                 \n",
      " dropout (Dropout)           (None, 100)               0         \n",
      "                                                                 \n",
      " dense (Dense)               (None, 50)                5050      \n",
      "                                                                 \n",
      " dropout_1 (Dropout)         (None, 50)                0         \n",
      "                                                                 \n",
      " dense_1 (Dense)             (None, 32)                1632      \n",
      "                                                                 \n",
      " dropout_2 (Dropout)         (None, 32)                0         \n",
      "                                                                 \n",
      " dense_2 (Dense)             (None, 6)                 198       \n",
      "                                                                 \n",
      "=================================================================\n",
      "Total params: 10564580 (40.30 MB)\n",
      "Trainable params: 47480 (185.47 KB)\n",
      "Non-trainable params: 10517100 (40.12 MB)\n",
      "_________________________________________________________________\n"
     ]
    }
   ],
   "source": [
    "# creating a sequential model\n",
    "model = Sequential()\n",
    "# adding an embedding layer with pre-trained weights\n",
    "model.add(Embedding(vocab_size, embedding_dim, weights = [embedding_matrix], input_length = max_len, trainable = False))\n",
    "# adding a bidirectional LSTM layer with 50 memory units and returning sequences\n",
    "model.add(Bidirectional(LSTM(50, return_sequences = True)))\n",
    "# adding a GlobalMaxPool1D layer to extract the maximum value from the sequences\n",
    "model.add(GlobalMaxPool1D())\n",
    "# adding a BatchNormalization layer for normalizing the inputs\n",
    "model.add(BatchNormalization())\n",
    "model.add(Dropout(0.1))\n",
    "model.add(Dense(50, activation = \"relu\"))\n",
    "model.add(Dropout(0.1))\n",
    "model.add(Dense(32, activation = \"relu\"))\n",
    "model.add(Dropout(0.1))\n",
    "model.add(Dense(6, activation = 'sigmoid'))\n",
    "model.summary()"
   ]
  },
  {
   "cell_type": "code",
   "execution_count": null,
   "id": "8c6e9969",
   "metadata": {
    "id": "8c6e9969"
   },
   "outputs": [],
   "source": [
    "import tensorflow as tf\n",
    "\n",
    "# areating an ExponentialDecay learning rate schedule\n",
    "lr_schedule = tf.keras.optimizers.schedules.ExponentialDecay(\n",
    "    initial_learning_rate=0.01,\n",
    "    decay_steps=1000,\n",
    "    decay_rate=0.05)\n",
    "optimizer_adam = tf.keras.optimizers.Adam(learning_rate=lr_schedule)\n",
    "\n",
    "\n",
    "# compiling the model\n",
    "model.compile(loss = 'binary_crossentropy', optimizer = optimizer_adam , metrics = ['accuracy'])"
   ]
  },
  {
   "cell_type": "code",
   "execution_count": null,
   "id": "3365bcd8",
   "metadata": {
    "colab": {
     "base_uri": "https://localhost:8080/"
    },
    "id": "3365bcd8",
    "outputId": "2564f64a-14e0-4343-868c-a34ccef9da29"
   },
   "outputs": [
    {
     "name": "stdout",
     "output_type": "stream",
     "text": [
      "Epoch 1/8\n",
      "873/873 [==============================] - 28s 32ms/step - loss: 0.0523 - accuracy: 0.9788 - val_loss: 0.0526 - val_accuracy: 0.9939\n",
      "Epoch 2/8\n",
      "873/873 [==============================] - 27s 31ms/step - loss: 0.0521 - accuracy: 0.9789 - val_loss: 0.0526 - val_accuracy: 0.9939\n",
      "Epoch 3/8\n",
      "873/873 [==============================] - 26s 30ms/step - loss: 0.0521 - accuracy: 0.9783 - val_loss: 0.0526 - val_accuracy: 0.9939\n",
      "Epoch 4/8\n",
      "873/873 [==============================] - 26s 30ms/step - loss: 0.0523 - accuracy: 0.9790 - val_loss: 0.0526 - val_accuracy: 0.9939\n",
      "Epoch 5/8\n",
      "873/873 [==============================] - 25s 28ms/step - loss: 0.0520 - accuracy: 0.9783 - val_loss: 0.0527 - val_accuracy: 0.9939\n",
      "Epoch 6/8\n",
      "873/873 [==============================] - 26s 30ms/step - loss: 0.0522 - accuracy: 0.9789 - val_loss: 0.0526 - val_accuracy: 0.9939\n",
      "Epoch 7/8\n",
      "873/873 [==============================] - 26s 30ms/step - loss: 0.0522 - accuracy: 0.9787 - val_loss: 0.0526 - val_accuracy: 0.9939\n",
      "Epoch 8/8\n",
      "873/873 [==============================] - 25s 29ms/step - loss: 0.0523 - accuracy: 0.9790 - val_loss: 0.0526 - val_accuracy: 0.9939\n"
     ]
    }
   ],
   "source": [
    "# fitting the model on the dataset\n",
    "history = model.fit(padded_train, y_train, epochs = 8, batch_size = 128, validation_split = 0.3)"
   ]
  },
  {
   "cell_type": "markdown",
   "id": "89adfca9",
   "metadata": {
    "id": "89adfca9"
   },
   "source": [
    "### Making predictions on the test data"
   ]
  },
  {
   "cell_type": "code",
   "execution_count": null,
   "id": "a4101e45",
   "metadata": {
    "colab": {
     "base_uri": "https://localhost:8080/"
    },
    "id": "a4101e45",
    "outputId": "a9cb0b4d-9ba6-4d15-a3ae-b18c8fe69cdc"
   },
   "outputs": [
    {
     "name": "stdout",
     "output_type": "stream",
     "text": [
      "1197/1197 [==============================] - 14s 11ms/step\n"
     ]
    }
   ],
   "source": [
    "# list of the output class labels\n",
    "labels_list = [\"toxic\", \"severe_toxic\", \"obscene\", \"threat\", \"insult\", \"identity_hate\"]\n",
    "\n",
    "# making predictions\n",
    "y_pred = model.predict(padded_test, verbose = 1, batch_size = 128)"
   ]
  },
  {
   "cell_type": "code",
   "execution_count": null,
   "id": "a3b8356d",
   "metadata": {
    "id": "a3b8356d"
   },
   "outputs": [],
   "source": [
    "# creating submission\n",
    "\n",
    "sample_submission = pd.read_csv(\"/content/drive/MyDrive/Coventry University/NLP CW 2/sample_submission.csv\")\n",
    "\n",
    "sample_submission[labels_list] = y_pred\n",
    "\n",
    "sample_submission.to_csv(\"/content/drive/MyDrive/Coventry University/NLP CW 2/BiLSTM_submission.csv\", index = False)"
   ]
  },
  {
   "cell_type": "code",
   "execution_count": null,
   "id": "194a827e",
   "metadata": {
    "colab": {
     "base_uri": "https://localhost:8080/",
     "height": 206
    },
    "id": "194a827e",
    "outputId": "4fc5a95f-e5a4-4d4a-bc95-6b2b33bb6390"
   },
   "outputs": [
    {
     "data": {
      "text/html": [
       "\n",
       "  <div id=\"df-7ea2ee40-403a-48e0-99d5-aadc0b5d63e0\" class=\"colab-df-container\">\n",
       "    <div>\n",
       "<style scoped>\n",
       "    .dataframe tbody tr th:only-of-type {\n",
       "        vertical-align: middle;\n",
       "    }\n",
       "\n",
       "    .dataframe tbody tr th {\n",
       "        vertical-align: top;\n",
       "    }\n",
       "\n",
       "    .dataframe thead th {\n",
       "        text-align: right;\n",
       "    }\n",
       "</style>\n",
       "<table border=\"1\" class=\"dataframe\">\n",
       "  <thead>\n",
       "    <tr style=\"text-align: right;\">\n",
       "      <th></th>\n",
       "      <th>id</th>\n",
       "      <th>toxic</th>\n",
       "      <th>severe_toxic</th>\n",
       "      <th>obscene</th>\n",
       "      <th>threat</th>\n",
       "      <th>insult</th>\n",
       "      <th>identity_hate</th>\n",
       "    </tr>\n",
       "  </thead>\n",
       "  <tbody>\n",
       "    <tr>\n",
       "      <th>0</th>\n",
       "      <td>00001cee341fdb12</td>\n",
       "      <td>0.977985</td>\n",
       "      <td>0.376721</td>\n",
       "      <td>0.913251</td>\n",
       "      <td>0.099233</td>\n",
       "      <td>0.807791</td>\n",
       "      <td>0.266907</td>\n",
       "    </tr>\n",
       "    <tr>\n",
       "      <th>1</th>\n",
       "      <td>0000247867823ef7</td>\n",
       "      <td>0.004380</td>\n",
       "      <td>0.000004</td>\n",
       "      <td>0.001858</td>\n",
       "      <td>0.000012</td>\n",
       "      <td>0.000617</td>\n",
       "      <td>0.000111</td>\n",
       "    </tr>\n",
       "    <tr>\n",
       "      <th>2</th>\n",
       "      <td>00013b17ad220c46</td>\n",
       "      <td>0.018890</td>\n",
       "      <td>0.000412</td>\n",
       "      <td>0.015617</td>\n",
       "      <td>0.000968</td>\n",
       "      <td>0.006317</td>\n",
       "      <td>0.001115</td>\n",
       "    </tr>\n",
       "    <tr>\n",
       "      <th>3</th>\n",
       "      <td>00017563c3f7919a</td>\n",
       "      <td>0.010935</td>\n",
       "      <td>0.000003</td>\n",
       "      <td>0.002153</td>\n",
       "      <td>0.000014</td>\n",
       "      <td>0.001769</td>\n",
       "      <td>0.000010</td>\n",
       "    </tr>\n",
       "    <tr>\n",
       "      <th>4</th>\n",
       "      <td>00017695ad8997eb</td>\n",
       "      <td>0.007744</td>\n",
       "      <td>0.000006</td>\n",
       "      <td>0.003259</td>\n",
       "      <td>0.000031</td>\n",
       "      <td>0.000989</td>\n",
       "      <td>0.000015</td>\n",
       "    </tr>\n",
       "  </tbody>\n",
       "</table>\n",
       "</div>\n",
       "    <div class=\"colab-df-buttons\">\n",
       "\n",
       "  <div class=\"colab-df-container\">\n",
       "    <button class=\"colab-df-convert\" onclick=\"convertToInteractive('df-7ea2ee40-403a-48e0-99d5-aadc0b5d63e0')\"\n",
       "            title=\"Convert this dataframe to an interactive table.\"\n",
       "            style=\"display:none;\">\n",
       "\n",
       "  <svg xmlns=\"http://www.w3.org/2000/svg\" height=\"24px\" viewBox=\"0 -960 960 960\">\n",
       "    <path d=\"M120-120v-720h720v720H120Zm60-500h600v-160H180v160Zm220 220h160v-160H400v160Zm0 220h160v-160H400v160ZM180-400h160v-160H180v160Zm440 0h160v-160H620v160ZM180-180h160v-160H180v160Zm440 0h160v-160H620v160Z\"/>\n",
       "  </svg>\n",
       "    </button>\n",
       "\n",
       "  <style>\n",
       "    .colab-df-container {\n",
       "      display:flex;\n",
       "      gap: 12px;\n",
       "    }\n",
       "\n",
       "    .colab-df-convert {\n",
       "      background-color: #E8F0FE;\n",
       "      border: none;\n",
       "      border-radius: 50%;\n",
       "      cursor: pointer;\n",
       "      display: none;\n",
       "      fill: #1967D2;\n",
       "      height: 32px;\n",
       "      padding: 0 0 0 0;\n",
       "      width: 32px;\n",
       "    }\n",
       "\n",
       "    .colab-df-convert:hover {\n",
       "      background-color: #E2EBFA;\n",
       "      box-shadow: 0px 1px 2px rgba(60, 64, 67, 0.3), 0px 1px 3px 1px rgba(60, 64, 67, 0.15);\n",
       "      fill: #174EA6;\n",
       "    }\n",
       "\n",
       "    .colab-df-buttons div {\n",
       "      margin-bottom: 4px;\n",
       "    }\n",
       "\n",
       "    [theme=dark] .colab-df-convert {\n",
       "      background-color: #3B4455;\n",
       "      fill: #D2E3FC;\n",
       "    }\n",
       "\n",
       "    [theme=dark] .colab-df-convert:hover {\n",
       "      background-color: #434B5C;\n",
       "      box-shadow: 0px 1px 3px 1px rgba(0, 0, 0, 0.15);\n",
       "      filter: drop-shadow(0px 1px 2px rgba(0, 0, 0, 0.3));\n",
       "      fill: #FFFFFF;\n",
       "    }\n",
       "  </style>\n",
       "\n",
       "    <script>\n",
       "      const buttonEl =\n",
       "        document.querySelector('#df-7ea2ee40-403a-48e0-99d5-aadc0b5d63e0 button.colab-df-convert');\n",
       "      buttonEl.style.display =\n",
       "        google.colab.kernel.accessAllowed ? 'block' : 'none';\n",
       "\n",
       "      async function convertToInteractive(key) {\n",
       "        const element = document.querySelector('#df-7ea2ee40-403a-48e0-99d5-aadc0b5d63e0');\n",
       "        const dataTable =\n",
       "          await google.colab.kernel.invokeFunction('convertToInteractive',\n",
       "                                                    [key], {});\n",
       "        if (!dataTable) return;\n",
       "\n",
       "        const docLinkHtml = 'Like what you see? Visit the ' +\n",
       "          '<a target=\"_blank\" href=https://colab.research.google.com/notebooks/data_table.ipynb>data table notebook</a>'\n",
       "          + ' to learn more about interactive tables.';\n",
       "        element.innerHTML = '';\n",
       "        dataTable['output_type'] = 'display_data';\n",
       "        await google.colab.output.renderOutput(dataTable, element);\n",
       "        const docLink = document.createElement('div');\n",
       "        docLink.innerHTML = docLinkHtml;\n",
       "        element.appendChild(docLink);\n",
       "      }\n",
       "    </script>\n",
       "  </div>\n",
       "\n",
       "\n",
       "<div id=\"df-20cab73c-418d-47f6-b5a1-567fc0699a7f\">\n",
       "  <button class=\"colab-df-quickchart\" onclick=\"quickchart('df-20cab73c-418d-47f6-b5a1-567fc0699a7f')\"\n",
       "            title=\"Suggest charts\"\n",
       "            style=\"display:none;\">\n",
       "\n",
       "<svg xmlns=\"http://www.w3.org/2000/svg\" height=\"24px\"viewBox=\"0 0 24 24\"\n",
       "     width=\"24px\">\n",
       "    <g>\n",
       "        <path d=\"M19 3H5c-1.1 0-2 .9-2 2v14c0 1.1.9 2 2 2h14c1.1 0 2-.9 2-2V5c0-1.1-.9-2-2-2zM9 17H7v-7h2v7zm4 0h-2V7h2v10zm4 0h-2v-4h2v4z\"/>\n",
       "    </g>\n",
       "</svg>\n",
       "  </button>\n",
       "\n",
       "<style>\n",
       "  .colab-df-quickchart {\n",
       "      --bg-color: #E8F0FE;\n",
       "      --fill-color: #1967D2;\n",
       "      --hover-bg-color: #E2EBFA;\n",
       "      --hover-fill-color: #174EA6;\n",
       "      --disabled-fill-color: #AAA;\n",
       "      --disabled-bg-color: #DDD;\n",
       "  }\n",
       "\n",
       "  [theme=dark] .colab-df-quickchart {\n",
       "      --bg-color: #3B4455;\n",
       "      --fill-color: #D2E3FC;\n",
       "      --hover-bg-color: #434B5C;\n",
       "      --hover-fill-color: #FFFFFF;\n",
       "      --disabled-bg-color: #3B4455;\n",
       "      --disabled-fill-color: #666;\n",
       "  }\n",
       "\n",
       "  .colab-df-quickchart {\n",
       "    background-color: var(--bg-color);\n",
       "    border: none;\n",
       "    border-radius: 50%;\n",
       "    cursor: pointer;\n",
       "    display: none;\n",
       "    fill: var(--fill-color);\n",
       "    height: 32px;\n",
       "    padding: 0;\n",
       "    width: 32px;\n",
       "  }\n",
       "\n",
       "  .colab-df-quickchart:hover {\n",
       "    background-color: var(--hover-bg-color);\n",
       "    box-shadow: 0 1px 2px rgba(60, 64, 67, 0.3), 0 1px 3px 1px rgba(60, 64, 67, 0.15);\n",
       "    fill: var(--button-hover-fill-color);\n",
       "  }\n",
       "\n",
       "  .colab-df-quickchart-complete:disabled,\n",
       "  .colab-df-quickchart-complete:disabled:hover {\n",
       "    background-color: var(--disabled-bg-color);\n",
       "    fill: var(--disabled-fill-color);\n",
       "    box-shadow: none;\n",
       "  }\n",
       "\n",
       "  .colab-df-spinner {\n",
       "    border: 2px solid var(--fill-color);\n",
       "    border-color: transparent;\n",
       "    border-bottom-color: var(--fill-color);\n",
       "    animation:\n",
       "      spin 1s steps(1) infinite;\n",
       "  }\n",
       "\n",
       "  @keyframes spin {\n",
       "    0% {\n",
       "      border-color: transparent;\n",
       "      border-bottom-color: var(--fill-color);\n",
       "      border-left-color: var(--fill-color);\n",
       "    }\n",
       "    20% {\n",
       "      border-color: transparent;\n",
       "      border-left-color: var(--fill-color);\n",
       "      border-top-color: var(--fill-color);\n",
       "    }\n",
       "    30% {\n",
       "      border-color: transparent;\n",
       "      border-left-color: var(--fill-color);\n",
       "      border-top-color: var(--fill-color);\n",
       "      border-right-color: var(--fill-color);\n",
       "    }\n",
       "    40% {\n",
       "      border-color: transparent;\n",
       "      border-right-color: var(--fill-color);\n",
       "      border-top-color: var(--fill-color);\n",
       "    }\n",
       "    60% {\n",
       "      border-color: transparent;\n",
       "      border-right-color: var(--fill-color);\n",
       "    }\n",
       "    80% {\n",
       "      border-color: transparent;\n",
       "      border-right-color: var(--fill-color);\n",
       "      border-bottom-color: var(--fill-color);\n",
       "    }\n",
       "    90% {\n",
       "      border-color: transparent;\n",
       "      border-bottom-color: var(--fill-color);\n",
       "    }\n",
       "  }\n",
       "</style>\n",
       "\n",
       "  <script>\n",
       "    async function quickchart(key) {\n",
       "      const quickchartButtonEl =\n",
       "        document.querySelector('#' + key + ' button');\n",
       "      quickchartButtonEl.disabled = true;  // To prevent multiple clicks.\n",
       "      quickchartButtonEl.classList.add('colab-df-spinner');\n",
       "      try {\n",
       "        const charts = await google.colab.kernel.invokeFunction(\n",
       "            'suggestCharts', [key], {});\n",
       "      } catch (error) {\n",
       "        console.error('Error during call to suggestCharts:', error);\n",
       "      }\n",
       "      quickchartButtonEl.classList.remove('colab-df-spinner');\n",
       "      quickchartButtonEl.classList.add('colab-df-quickchart-complete');\n",
       "    }\n",
       "    (() => {\n",
       "      let quickchartButtonEl =\n",
       "        document.querySelector('#df-20cab73c-418d-47f6-b5a1-567fc0699a7f button');\n",
       "      quickchartButtonEl.style.display =\n",
       "        google.colab.kernel.accessAllowed ? 'block' : 'none';\n",
       "    })();\n",
       "  </script>\n",
       "</div>\n",
       "    </div>\n",
       "  </div>\n"
      ],
      "text/plain": [
       "                 id     toxic  severe_toxic   obscene    threat    insult  \\\n",
       "0  00001cee341fdb12  0.977985      0.376721  0.913251  0.099233  0.807791   \n",
       "1  0000247867823ef7  0.004380      0.000004  0.001858  0.000012  0.000617   \n",
       "2  00013b17ad220c46  0.018890      0.000412  0.015617  0.000968  0.006317   \n",
       "3  00017563c3f7919a  0.010935      0.000003  0.002153  0.000014  0.001769   \n",
       "4  00017695ad8997eb  0.007744      0.000006  0.003259  0.000031  0.000989   \n",
       "\n",
       "   identity_hate  \n",
       "0       0.266907  \n",
       "1       0.000111  \n",
       "2       0.001115  \n",
       "3       0.000010  \n",
       "4       0.000015  "
      ]
     },
     "execution_count": 27,
     "metadata": {},
     "output_type": "execute_result"
    }
   ],
   "source": [
    "sample_submission.head()"
   ]
  },
  {
   "cell_type": "markdown",
   "id": "0c1bc474",
   "metadata": {
    "id": "0c1bc474"
   },
   "source": [
    "# 2. Bi GRU"
   ]
  },
  {
   "cell_type": "code",
   "execution_count": null,
   "id": "6065c076",
   "metadata": {
    "id": "6065c076"
   },
   "outputs": [],
   "source": [
    "# importing lobraries for BiGRU\n",
    "\n",
    "import time\n",
    "start_time = time.time()\n",
    "from sklearn.model_selection import train_test_split\n",
    "import sys, os, re, csv, codecs, numpy as np, pandas as pd\n",
    "np.random.seed(96)\n",
    "os.environ[\"OMP_NUM_THREADS\"] = \"4\"\n",
    "from keras.preprocessing.text import Tokenizer\n",
    "from keras.preprocessing.sequence import pad_sequences\n",
    "from keras import backend as K\n",
    "from keras.models import Model, load_model\n",
    "from keras import initializers, regularizers, constraints, optimizers, layers, callbacks\n",
    "from keras.layers import Dense, Input, LSTM, Embedding, Dropout, Activation, Conv1D\n",
    "from keras.layers import GlobalAveragePooling1D, GlobalMaxPooling1D, concatenate, SpatialDropout1D\n",
    "from tensorflow.keras.layers import InputSpec, Layer\n",
    "from keras.layers import Bidirectional, GlobalMaxPool1D, MaxPooling1D, Add, Flatten"
   ]
  },
  {
   "cell_type": "code",
   "execution_count": null,
   "id": "dd912f03",
   "metadata": {
    "collapsed": true,
    "id": "dd912f03"
   },
   "outputs": [],
   "source": [
    "import logging\n",
    "from sklearn.metrics import roc_auc_score\n",
    "from keras.callbacks import Callback\n",
    "\n",
    "# custom callback for evaluating ROC-AUC during training\n",
    "class RocAucEvaluation(Callback):\n",
    "    def __init__(self, validation_data=(), interval=1):\n",
    "        super(Callback, self).__init__()\n",
    "\n",
    "        self.interval = interval\n",
    "        self.X_val, self.y_val = validation_data\n",
    "\n",
    "    # callback function called at the end of each training epoch\n",
    "    def on_epoch_end(self, epoch, logs={}):\n",
    "        # evaluating ROC-AUC score at specified intervals\n",
    "        if epoch % self.interval == 0:\n",
    "            # predicting probabilities on the validation set\n",
    "            y_pred = self.model.predict(self.X_val, verbose=0)\n",
    "            \n",
    "            # calculating ROC-AUC score using sklearn's roc_auc_score\n",
    "            score = roc_auc_score(self.y_val, y_pred)\n",
    "            \n",
    "            # printing the ROC-AUC score for monitoring\n",
    "            print(\"\\n ROC-AUC - epoch: {:d} - score: {:.6f}\".format(epoch+1, score))"
   ]
  },
  {
   "cell_type": "code",
   "execution_count": null,
   "id": "9ea2ff09",
   "metadata": {
    "collapsed": true,
    "id": "9ea2ff09"
   },
   "outputs": [],
   "source": [
    "df_train = pd.read_csv('/content/drive/MyDrive/Coventry University/NLP CW 2/train.csv')\n",
    "df_test = pd.read_csv('/content/drive/MyDrive/Coventry University/NLP CW 2/test.csv')\n",
    "glove_path = \"/content/drive/MyDrive/Colab Notebooks/glove.6B.50d.txt\"\n",
    "\n",
    "embedding_size = 50\n",
    "max_feat = 100000\n",
    "max_len = 150"
   ]
  },
  {
   "cell_type": "code",
   "execution_count": null,
   "id": "39a4d194",
   "metadata": {
    "collapsed": true,
    "id": "39a4d194"
   },
   "outputs": [],
   "source": [
    "labels_list = ['toxic', 'severe_toxic', 'obscene', 'threat', 'insult', 'identity_hate']\n",
    "y = df_train[labels_list].values\n",
    "df_train['comment_text'].fillna('no comment')\n",
    "df_test['comment_text'].fillna('no comment')\n",
    "\n",
    "# 80% train 20% test split\n",
    "X_train, X_val, Y_train, Y_val = train_test_split(df_train, y, test_size=0.2, random_state=96)"
   ]
  },
  {
   "cell_type": "markdown",
   "id": "d9fbca05",
   "metadata": {},
   "source": [
    "## Preprocessing"
   ]
  },
  {
   "cell_type": "code",
   "execution_count": null,
   "id": "2913f14f",
   "metadata": {
    "id": "2913f14f"
   },
   "outputs": [],
   "source": [
    "orig_text_train = X_train['comment_text'].str.lower()\n",
    "orig_text_val = X_val['comment_text'].str.lower()\n",
    "orig_text_test = df_test['comment_text'].str.lower()\n",
    "\n",
    "tokenizer = Tokenizer(num_words = max_feat, lower = True)\n",
    "tokenizer.fit_on_texts(orig_text_train)\n",
    "X_train['comment_sequence'] = tokenizer.texts_to_sequences(orig_text_train)\n",
    "X_val['comment_sequence'] = tokenizer.texts_to_sequences(orig_text_val)\n",
    "df_test['comment_sequence'] = tokenizer.texts_to_sequences(orig_text_test)\n",
    "\n",
    "X_train = pad_sequences(X_train.comment_sequence, maxlen = max_len)\n",
    "X_val = pad_sequences(X_val.comment_sequence, maxlen = max_len)\n",
    "df_test = pad_sequences(df_test.comment_sequence, maxlen = max_len)"
   ]
  },
  {
   "cell_type": "code",
   "execution_count": null,
   "id": "8bc952ad",
   "metadata": {
    "collapsed": true,
    "id": "8bc952ad"
   },
   "outputs": [],
   "source": [
    "def get_coeffs(word,*arr): return word, np.asarray(arr, dtype='float32')\n",
    "embedding_index = dict(get_coeffs(*o.strip().split(\" \")) for o in open(glove_path))"
   ]
  },
  {
   "cell_type": "code",
   "execution_count": null,
   "id": "9ac51532",
   "metadata": {
    "collapsed": true,
    "id": "9ac51532"
   },
   "outputs": [],
   "source": [
    "# getting word index from the tokenizer\n",
    "word_index = tokenizer.word_index\n",
    "\n",
    "# getting the number of words to consider based on max features\n",
    "n_words = min(max_feat, len(word_index))\n",
    "\n",
    "# initialising an embedding matrix with zeros\n",
    "embedding_matrix = np.zeros((n_words, embedding_size))\n",
    "\n",
    "# iterating through the word index\n",
    "for word, i in word_index.items():\n",
    "    # checking if the index is within the specified maximum features\n",
    "    if i >= max_feat:\n",
    "        continue\n",
    "    \n",
    "    # getting the embedding vector for the current word from the pre-trained embeddings\n",
    "    embedding_vector = embedding_index.get(word)\n",
    "    \n",
    "    # setting it in the embedding matrix if embedding vector exists for the word\n",
    "    if embedding_vector is not None:\n",
    "        embedding_matrix[i] = embedding_vector\n"
   ]
  },
  {
   "cell_type": "code",
   "execution_count": null,
   "id": "d308f883",
   "metadata": {
    "collapsed": true,
    "id": "d308f883"
   },
   "outputs": [],
   "source": [
    "from keras.optimizers import Adam, RMSprop\n",
    "from keras.callbacks import EarlyStopping, ModelCheckpoint, LearningRateScheduler\n",
    "from keras.layers import GRU, BatchNormalization, Conv1D, MaxPooling1D\n",
    "\n",
    "file_path = 'model_best_BiGRU.hdf5'\n",
    "\n",
    "# model checkpoint callback to save the best model based on validation loss\n",
    "check_point = ModelCheckpoint(file_path,\n",
    "                              monitor = 'val_loss',\n",
    "                              verbose = 1,\n",
    "                              save_best_only = True,\n",
    "                              mode = 'min')\n",
    "\n",
    "# RocAucEvaluation callback for computing ROC-AUC score on validation data\n",
    "ra_val = RocAucEvaluation(validation_data=(X_val, Y_val), interval = 1)\n",
    "\n",
    "# EarlyStopping callback to stop training if validation loss does not improve for a certain number of epochs\n",
    "early_stop = EarlyStopping(monitor = 'val_loss',\n",
    "                           mode = 'min',\n",
    "                           patience = 5)"
   ]
  },
  {
   "cell_type": "markdown",
   "id": "affba324",
   "metadata": {},
   "source": [
    "# Implementing BiGRU"
   ]
  },
  {
   "cell_type": "code",
   "execution_count": null,
   "id": "NsriHxfLxBDH",
   "metadata": {
    "colab": {
     "base_uri": "https://localhost:8080/"
    },
    "id": "NsriHxfLxBDH",
    "outputId": "3374bb87-7025-49e5-b1bf-a6d19aa49d28"
   },
   "outputs": [
    {
     "name": "stdout",
     "output_type": "stream",
     "text": [
      "Epoch 1/4\n",
      "998/998 [==============================] - ETA: 0s - loss: 0.0678 - accuracy: 0.8470\n",
      " ROC-AUC - epoch: 1 - score: 0.967607\n",
      "\n",
      "Epoch 1: val_loss improved from inf to 0.05253, saving model to model_best_BiGRU.hdf5\n",
      "998/998 [==============================] - 46s 37ms/step - loss: 0.0678 - accuracy: 0.8470 - val_loss: 0.0525 - val_accuracy: 0.9615\n",
      "Epoch 2/4\n",
      "  3/998 [..............................] - ETA: 36s - loss: 0.0729 - accuracy: 0.9714"
     ]
    },
    {
     "name": "stderr",
     "output_type": "stream",
     "text": [
      "/usr/local/lib/python3.10/dist-packages/keras/src/engine/training.py:3079: UserWarning: You are saving your model as an HDF5 file via `model.save()`. This file format is considered legacy. We recommend using instead the native Keras format, e.g. `model.save('my_model.keras')`.\n",
      "  saving_api.save_model(\n"
     ]
    },
    {
     "name": "stdout",
     "output_type": "stream",
     "text": [
      "998/998 [==============================] - ETA: 0s - loss: 0.0510 - accuracy: 0.9728\n",
      " ROC-AUC - epoch: 2 - score: 0.981039\n",
      "\n",
      "Epoch 2: val_loss improved from 0.05253 to 0.04871, saving model to model_best_BiGRU.hdf5\n",
      "998/998 [==============================] - 35s 35ms/step - loss: 0.0510 - accuracy: 0.9728 - val_loss: 0.0487 - val_accuracy: 0.9602\n",
      "Epoch 3/4\n",
      "  3/998 [..............................] - ETA: 37s - loss: 0.0439 - accuracy: 0.9453"
     ]
    },
    {
     "name": "stderr",
     "output_type": "stream",
     "text": [
      "/usr/local/lib/python3.10/dist-packages/keras/src/engine/training.py:3079: UserWarning: You are saving your model as an HDF5 file via `model.save()`. This file format is considered legacy. We recommend using instead the native Keras format, e.g. `model.save('my_model.keras')`.\n",
      "  saving_api.save_model(\n"
     ]
    },
    {
     "name": "stdout",
     "output_type": "stream",
     "text": [
      "998/998 [==============================] - ETA: 0s - loss: 0.0489 - accuracy: 0.9599\n",
      " ROC-AUC - epoch: 3 - score: 0.981103\n",
      "\n",
      "Epoch 3: val_loss improved from 0.04871 to 0.04849, saving model to model_best_BiGRU.hdf5\n",
      "998/998 [==============================] - 36s 36ms/step - loss: 0.0489 - accuracy: 0.9599 - val_loss: 0.0485 - val_accuracy: 0.9689\n",
      "Epoch 4/4\n",
      "  1/998 [..............................] - ETA: 41s - loss: 0.0738 - accuracy: 0.9375"
     ]
    },
    {
     "name": "stderr",
     "output_type": "stream",
     "text": [
      "/usr/local/lib/python3.10/dist-packages/keras/src/engine/training.py:3079: UserWarning: You are saving your model as an HDF5 file via `model.save()`. This file format is considered legacy. We recommend using instead the native Keras format, e.g. `model.save('my_model.keras')`.\n",
      "  saving_api.save_model(\n"
     ]
    },
    {
     "name": "stdout",
     "output_type": "stream",
     "text": [
      "997/998 [============================>.] - ETA: 0s - loss: 0.0489 - accuracy: 0.9623\n",
      " ROC-AUC - epoch: 4 - score: 0.981103\n",
      "\n",
      "Epoch 4: val_loss did not improve from 0.04849\n",
      "998/998 [==============================] - 35s 35ms/step - loss: 0.0490 - accuracy: 0.9623 - val_loss: 0.0485 - val_accuracy: 0.9687\n"
     ]
    }
   ],
   "source": [
    "\n",
    "from keras.optimizers import Adam\n",
    "from tensorflow.keras.optimizers.schedules import ExponentialDecay\n",
    "\n",
    "def BiGRU_model(optimizer=None, units=0, dr=0.0):\n",
    "    # input layer for sequences of max_len length\n",
    "    inp = Input(shape=(max_len,))\n",
    "\n",
    "    # embedding layer with pre-trained word embeddings\n",
    "    x = Embedding(max_feat, embedding_size, weights=[embedding_matrix], trainable=False)(inp)\n",
    "\n",
    "    # spatial dropout layer for regularization\n",
    "    x = SpatialDropout1D(dr)(x)\n",
    "\n",
    "    # bidirectional GRU layer for capturing bidirectional dependencies\n",
    "    x = Bidirectional(GRU(units, return_sequences=True))(x)\n",
    "\n",
    "    # 1D Convolutional layer with 64 filters and kernel size 2\n",
    "    x = Conv1D(64, kernel_size=2, padding='valid', kernel_initializer='he_uniform')(x)\n",
    "\n",
    "    # global average pooling and global max pooling\n",
    "    avg_pool = GlobalAveragePooling1D()(x)\n",
    "    max_pool = GlobalMaxPooling1D()(x)\n",
    "\n",
    "    # concatenating average pooling and max pooling outputs\n",
    "    x = concatenate([avg_pool, max_pool])\n",
    "\n",
    "    # Dense layer with sigmoid activation for multi-label classification\n",
    "    x = Dense(6, activation='sigmoid')(x)\n",
    "\n",
    "    # Create the Keras model\n",
    "    model = Model(inputs=inp, outputs=x)\n",
    "    \n",
    "    # Return the model\n",
    "    return model\n",
    "\n",
    "    if optimizer is None:\n",
    "        # if no optimizer is provided, create one with a learning rate schedule\n",
    "        initial_learning_rate = 0.01\n",
    "        decay_steps = 1000  # You need to set this value based on your dataset and training configuration\n",
    "        decay_rate = 0.05  # Set to 0 to disable decay\n",
    "\n",
    "        # defining the learning rate schedule\n",
    "        lr_schedule = ExponentialDecay(\n",
    "            initial_learning_rate=initial_learning_rate,\n",
    "            decay_steps=decay_steps,\n",
    "            decay_rate=decay_rate,\n",
    "            staircase=True)\n",
    "\n",
    "        # creating the Adam optimizer with the learning rate schedule\n",
    "        optimizer = Adam(learning_rate=lr_schedule)\n",
    "\n",
    "    # compiling the model with binary cross-entropy loss, the specified optimizer, and accuracy metric\n",
    "    model.compile(loss='binary_crossentropy', optimizer=optimizer, metrics=['accuracy'])\n",
    "\n",
    "    # training the model on the training data with specified batch size, epochs, and validation data\n",
    "    history = model.fit(X_train, Y_train,\n",
    "                        batch_size=128,\n",
    "                        epochs=4,\n",
    "                        validation_data=(X_val, Y_val),\n",
    "                        verbose=1,\n",
    "                        callbacks=[ra_val, check_point, early_stop])\n",
    "\n",
    "    # loading the best model saved during training\n",
    "    model = load_model(file_path)\n",
    "\n",
    "    return model\n",
    "\n",
    "\n",
    "# running BiGRU_model\n",
    "model = BiGRU_model(units=128, dr=0.2)\n"
   ]
  },
  {
   "cell_type": "markdown",
   "id": "89cadbcd",
   "metadata": {},
   "source": [
    "### Making predictions"
   ]
  },
  {
   "cell_type": "code",
   "execution_count": null,
   "id": "2788c3a2",
   "metadata": {
    "colab": {
     "base_uri": "https://localhost:8080/"
    },
    "id": "2788c3a2",
    "outputId": "308624b0-0447-4c85-a837-8539aa9fcaf3"
   },
   "outputs": [
    {
     "name": "stdout",
     "output_type": "stream",
     "text": [
      "150/150 [==============================] - 7s 40ms/step\n"
     ]
    }
   ],
   "source": [
    "pred = model.predict(df_test, batch_size = 1024, verbose = 1)"
   ]
  },
  {
   "cell_type": "code",
   "execution_count": null,
   "id": "c9bfddf4",
   "metadata": {
    "id": "c9bfddf4"
   },
   "outputs": [],
   "source": [
    "submission = pd.read_csv('/content/drive/MyDrive/Coventry University/NLP CW 2/sample_submission.csv')\n",
    "submission[labels_list] = (pred)\n",
    "submission.to_csv('/content/drive/MyDrive/Coventry University/NLP CW 2/BiGRU_submission.csv', index = False)"
   ]
  },
  {
   "cell_type": "code",
   "execution_count": null,
   "id": "5c231ee2",
   "metadata": {
    "colab": {
     "base_uri": "https://localhost:8080/",
     "height": 206
    },
    "id": "5c231ee2",
    "outputId": "94c5af83-6a19-4356-8626-d7c124c8d7d0"
   },
   "outputs": [
    {
     "data": {
      "text/html": [
       "\n",
       "  <div id=\"df-81196780-6725-483c-b306-48b26f67094f\" class=\"colab-df-container\">\n",
       "    <div>\n",
       "<style scoped>\n",
       "    .dataframe tbody tr th:only-of-type {\n",
       "        vertical-align: middle;\n",
       "    }\n",
       "\n",
       "    .dataframe tbody tr th {\n",
       "        vertical-align: top;\n",
       "    }\n",
       "\n",
       "    .dataframe thead th {\n",
       "        text-align: right;\n",
       "    }\n",
       "</style>\n",
       "<table border=\"1\" class=\"dataframe\">\n",
       "  <thead>\n",
       "    <tr style=\"text-align: right;\">\n",
       "      <th></th>\n",
       "      <th>id</th>\n",
       "      <th>toxic</th>\n",
       "      <th>severe_toxic</th>\n",
       "      <th>obscene</th>\n",
       "      <th>threat</th>\n",
       "      <th>insult</th>\n",
       "      <th>identity_hate</th>\n",
       "    </tr>\n",
       "  </thead>\n",
       "  <tbody>\n",
       "    <tr>\n",
       "      <th>0</th>\n",
       "      <td>00001cee341fdb12</td>\n",
       "      <td>0.981960</td>\n",
       "      <td>0.238642</td>\n",
       "      <td>0.971401</td>\n",
       "      <td>0.040829</td>\n",
       "      <td>0.836097</td>\n",
       "      <td>0.106463</td>\n",
       "    </tr>\n",
       "    <tr>\n",
       "      <th>1</th>\n",
       "      <td>0000247867823ef7</td>\n",
       "      <td>0.003628</td>\n",
       "      <td>0.000121</td>\n",
       "      <td>0.002180</td>\n",
       "      <td>0.000030</td>\n",
       "      <td>0.001275</td>\n",
       "      <td>0.000493</td>\n",
       "    </tr>\n",
       "    <tr>\n",
       "      <th>2</th>\n",
       "      <td>00013b17ad220c46</td>\n",
       "      <td>0.003460</td>\n",
       "      <td>0.000085</td>\n",
       "      <td>0.001240</td>\n",
       "      <td>0.000017</td>\n",
       "      <td>0.001388</td>\n",
       "      <td>0.000732</td>\n",
       "    </tr>\n",
       "    <tr>\n",
       "      <th>3</th>\n",
       "      <td>00017563c3f7919a</td>\n",
       "      <td>0.001377</td>\n",
       "      <td>0.000008</td>\n",
       "      <td>0.000259</td>\n",
       "      <td>0.000014</td>\n",
       "      <td>0.000321</td>\n",
       "      <td>0.000019</td>\n",
       "    </tr>\n",
       "    <tr>\n",
       "      <th>4</th>\n",
       "      <td>00017695ad8997eb</td>\n",
       "      <td>0.006817</td>\n",
       "      <td>0.000305</td>\n",
       "      <td>0.002621</td>\n",
       "      <td>0.000231</td>\n",
       "      <td>0.001868</td>\n",
       "      <td>0.000683</td>\n",
       "    </tr>\n",
       "  </tbody>\n",
       "</table>\n",
       "</div>\n",
       "    <div class=\"colab-df-buttons\">\n",
       "\n",
       "  <div class=\"colab-df-container\">\n",
       "    <button class=\"colab-df-convert\" onclick=\"convertToInteractive('df-81196780-6725-483c-b306-48b26f67094f')\"\n",
       "            title=\"Convert this dataframe to an interactive table.\"\n",
       "            style=\"display:none;\">\n",
       "\n",
       "  <svg xmlns=\"http://www.w3.org/2000/svg\" height=\"24px\" viewBox=\"0 -960 960 960\">\n",
       "    <path d=\"M120-120v-720h720v720H120Zm60-500h600v-160H180v160Zm220 220h160v-160H400v160Zm0 220h160v-160H400v160ZM180-400h160v-160H180v160Zm440 0h160v-160H620v160ZM180-180h160v-160H180v160Zm440 0h160v-160H620v160Z\"/>\n",
       "  </svg>\n",
       "    </button>\n",
       "\n",
       "  <style>\n",
       "    .colab-df-container {\n",
       "      display:flex;\n",
       "      gap: 12px;\n",
       "    }\n",
       "\n",
       "    .colab-df-convert {\n",
       "      background-color: #E8F0FE;\n",
       "      border: none;\n",
       "      border-radius: 50%;\n",
       "      cursor: pointer;\n",
       "      display: none;\n",
       "      fill: #1967D2;\n",
       "      height: 32px;\n",
       "      padding: 0 0 0 0;\n",
       "      width: 32px;\n",
       "    }\n",
       "\n",
       "    .colab-df-convert:hover {\n",
       "      background-color: #E2EBFA;\n",
       "      box-shadow: 0px 1px 2px rgba(60, 64, 67, 0.3), 0px 1px 3px 1px rgba(60, 64, 67, 0.15);\n",
       "      fill: #174EA6;\n",
       "    }\n",
       "\n",
       "    .colab-df-buttons div {\n",
       "      margin-bottom: 4px;\n",
       "    }\n",
       "\n",
       "    [theme=dark] .colab-df-convert {\n",
       "      background-color: #3B4455;\n",
       "      fill: #D2E3FC;\n",
       "    }\n",
       "\n",
       "    [theme=dark] .colab-df-convert:hover {\n",
       "      background-color: #434B5C;\n",
       "      box-shadow: 0px 1px 3px 1px rgba(0, 0, 0, 0.15);\n",
       "      filter: drop-shadow(0px 1px 2px rgba(0, 0, 0, 0.3));\n",
       "      fill: #FFFFFF;\n",
       "    }\n",
       "  </style>\n",
       "\n",
       "    <script>\n",
       "      const buttonEl =\n",
       "        document.querySelector('#df-81196780-6725-483c-b306-48b26f67094f button.colab-df-convert');\n",
       "      buttonEl.style.display =\n",
       "        google.colab.kernel.accessAllowed ? 'block' : 'none';\n",
       "\n",
       "      async function convertToInteractive(key) {\n",
       "        const element = document.querySelector('#df-81196780-6725-483c-b306-48b26f67094f');\n",
       "        const dataTable =\n",
       "          await google.colab.kernel.invokeFunction('convertToInteractive',\n",
       "                                                    [key], {});\n",
       "        if (!dataTable) return;\n",
       "\n",
       "        const docLinkHtml = 'Like what you see? Visit the ' +\n",
       "          '<a target=\"_blank\" href=https://colab.research.google.com/notebooks/data_table.ipynb>data table notebook</a>'\n",
       "          + ' to learn more about interactive tables.';\n",
       "        element.innerHTML = '';\n",
       "        dataTable['output_type'] = 'display_data';\n",
       "        await google.colab.output.renderOutput(dataTable, element);\n",
       "        const docLink = document.createElement('div');\n",
       "        docLink.innerHTML = docLinkHtml;\n",
       "        element.appendChild(docLink);\n",
       "      }\n",
       "    </script>\n",
       "  </div>\n",
       "\n",
       "\n",
       "<div id=\"df-75c5aea6-489e-43f6-99b3-c17667c1878b\">\n",
       "  <button class=\"colab-df-quickchart\" onclick=\"quickchart('df-75c5aea6-489e-43f6-99b3-c17667c1878b')\"\n",
       "            title=\"Suggest charts\"\n",
       "            style=\"display:none;\">\n",
       "\n",
       "<svg xmlns=\"http://www.w3.org/2000/svg\" height=\"24px\"viewBox=\"0 0 24 24\"\n",
       "     width=\"24px\">\n",
       "    <g>\n",
       "        <path d=\"M19 3H5c-1.1 0-2 .9-2 2v14c0 1.1.9 2 2 2h14c1.1 0 2-.9 2-2V5c0-1.1-.9-2-2-2zM9 17H7v-7h2v7zm4 0h-2V7h2v10zm4 0h-2v-4h2v4z\"/>\n",
       "    </g>\n",
       "</svg>\n",
       "  </button>\n",
       "\n",
       "<style>\n",
       "  .colab-df-quickchart {\n",
       "      --bg-color: #E8F0FE;\n",
       "      --fill-color: #1967D2;\n",
       "      --hover-bg-color: #E2EBFA;\n",
       "      --hover-fill-color: #174EA6;\n",
       "      --disabled-fill-color: #AAA;\n",
       "      --disabled-bg-color: #DDD;\n",
       "  }\n",
       "\n",
       "  [theme=dark] .colab-df-quickchart {\n",
       "      --bg-color: #3B4455;\n",
       "      --fill-color: #D2E3FC;\n",
       "      --hover-bg-color: #434B5C;\n",
       "      --hover-fill-color: #FFFFFF;\n",
       "      --disabled-bg-color: #3B4455;\n",
       "      --disabled-fill-color: #666;\n",
       "  }\n",
       "\n",
       "  .colab-df-quickchart {\n",
       "    background-color: var(--bg-color);\n",
       "    border: none;\n",
       "    border-radius: 50%;\n",
       "    cursor: pointer;\n",
       "    display: none;\n",
       "    fill: var(--fill-color);\n",
       "    height: 32px;\n",
       "    padding: 0;\n",
       "    width: 32px;\n",
       "  }\n",
       "\n",
       "  .colab-df-quickchart:hover {\n",
       "    background-color: var(--hover-bg-color);\n",
       "    box-shadow: 0 1px 2px rgba(60, 64, 67, 0.3), 0 1px 3px 1px rgba(60, 64, 67, 0.15);\n",
       "    fill: var(--button-hover-fill-color);\n",
       "  }\n",
       "\n",
       "  .colab-df-quickchart-complete:disabled,\n",
       "  .colab-df-quickchart-complete:disabled:hover {\n",
       "    background-color: var(--disabled-bg-color);\n",
       "    fill: var(--disabled-fill-color);\n",
       "    box-shadow: none;\n",
       "  }\n",
       "\n",
       "  .colab-df-spinner {\n",
       "    border: 2px solid var(--fill-color);\n",
       "    border-color: transparent;\n",
       "    border-bottom-color: var(--fill-color);\n",
       "    animation:\n",
       "      spin 1s steps(1) infinite;\n",
       "  }\n",
       "\n",
       "  @keyframes spin {\n",
       "    0% {\n",
       "      border-color: transparent;\n",
       "      border-bottom-color: var(--fill-color);\n",
       "      border-left-color: var(--fill-color);\n",
       "    }\n",
       "    20% {\n",
       "      border-color: transparent;\n",
       "      border-left-color: var(--fill-color);\n",
       "      border-top-color: var(--fill-color);\n",
       "    }\n",
       "    30% {\n",
       "      border-color: transparent;\n",
       "      border-left-color: var(--fill-color);\n",
       "      border-top-color: var(--fill-color);\n",
       "      border-right-color: var(--fill-color);\n",
       "    }\n",
       "    40% {\n",
       "      border-color: transparent;\n",
       "      border-right-color: var(--fill-color);\n",
       "      border-top-color: var(--fill-color);\n",
       "    }\n",
       "    60% {\n",
       "      border-color: transparent;\n",
       "      border-right-color: var(--fill-color);\n",
       "    }\n",
       "    80% {\n",
       "      border-color: transparent;\n",
       "      border-right-color: var(--fill-color);\n",
       "      border-bottom-color: var(--fill-color);\n",
       "    }\n",
       "    90% {\n",
       "      border-color: transparent;\n",
       "      border-bottom-color: var(--fill-color);\n",
       "    }\n",
       "  }\n",
       "</style>\n",
       "\n",
       "  <script>\n",
       "    async function quickchart(key) {\n",
       "      const quickchartButtonEl =\n",
       "        document.querySelector('#' + key + ' button');\n",
       "      quickchartButtonEl.disabled = true;  // To prevent multiple clicks.\n",
       "      quickchartButtonEl.classList.add('colab-df-spinner');\n",
       "      try {\n",
       "        const charts = await google.colab.kernel.invokeFunction(\n",
       "            'suggestCharts', [key], {});\n",
       "      } catch (error) {\n",
       "        console.error('Error during call to suggestCharts:', error);\n",
       "      }\n",
       "      quickchartButtonEl.classList.remove('colab-df-spinner');\n",
       "      quickchartButtonEl.classList.add('colab-df-quickchart-complete');\n",
       "    }\n",
       "    (() => {\n",
       "      let quickchartButtonEl =\n",
       "        document.querySelector('#df-75c5aea6-489e-43f6-99b3-c17667c1878b button');\n",
       "      quickchartButtonEl.style.display =\n",
       "        google.colab.kernel.accessAllowed ? 'block' : 'none';\n",
       "    })();\n",
       "  </script>\n",
       "</div>\n",
       "    </div>\n",
       "  </div>\n"
      ],
      "text/plain": [
       "                 id     toxic  severe_toxic   obscene    threat    insult  \\\n",
       "0  00001cee341fdb12  0.981960      0.238642  0.971401  0.040829  0.836097   \n",
       "1  0000247867823ef7  0.003628      0.000121  0.002180  0.000030  0.001275   \n",
       "2  00013b17ad220c46  0.003460      0.000085  0.001240  0.000017  0.001388   \n",
       "3  00017563c3f7919a  0.001377      0.000008  0.000259  0.000014  0.000321   \n",
       "4  00017695ad8997eb  0.006817      0.000305  0.002621  0.000231  0.001868   \n",
       "\n",
       "   identity_hate  \n",
       "0       0.106463  \n",
       "1       0.000493  \n",
       "2       0.000732  \n",
       "3       0.000019  \n",
       "4       0.000683  "
      ]
     },
     "execution_count": 48,
     "metadata": {},
     "output_type": "execute_result"
    }
   ],
   "source": [
    "submission.head()"
   ]
  },
  {
   "cell_type": "code",
   "execution_count": null,
   "id": "8f34d887",
   "metadata": {
    "collapsed": true,
    "id": "8f34d887"
   },
   "outputs": [],
   "source": []
  },
  {
   "cell_type": "markdown",
   "id": "788a9343",
   "metadata": {},
   "source": [
    "# 3. DistilBERT"
   ]
  },
  {
   "cell_type": "code",
   "execution_count": 1,
   "id": "9992cb1c",
   "metadata": {
    "execution": {
     "iopub.execute_input": "2023-12-03T20:17:14.889870Z",
     "iopub.status.busy": "2023-12-03T20:17:14.889392Z",
     "iopub.status.idle": "2023-12-03T20:17:25.529336Z",
     "shell.execute_reply": "2023-12-03T20:17:25.528510Z",
     "shell.execute_reply.started": "2023-12-03T20:17:14.889845Z"
    }
   },
   "outputs": [
    {
     "name": "stderr",
     "output_type": "stream",
     "text": [
      "/opt/conda/lib/python3.10/site-packages/scipy/__init__.py:146: UserWarning: A NumPy version >=1.16.5 and <1.23.0 is required for this version of SciPy (detected version 1.24.3\n",
      "  warnings.warn(f\"A NumPy version >={np_minversion} and <{np_maxversion}\"\n"
     ]
    }
   ],
   "source": [
    "# importing DistilBERT libraries\n",
    "\n",
    "import time\n",
    "import sys\n",
    "import copy\n",
    "import torch\n",
    "import numpy as np\n",
    "import pandas as pd\n",
    "from scipy.sparse import *\n",
    "from sklearn.model_selection import train_test_split\n",
    "from sklearn.metrics import roc_auc_score\n",
    "import pyarrow as pa\n",
    "import torch.nn as nn\n",
    "from torch.optim import lr_scheduler\n",
    "import torch.nn.functional as F\n",
    "from torchvision import datasets, models, transforms\n",
    "from torch.utils.data import Dataset,DataLoader\n",
    "from transformers import DistilBertConfig,DistilBertTokenizer,DistilBertModel\n",
    "from sklearn.model_selection import train_test_split"
   ]
  },
  {
   "cell_type": "code",
   "execution_count": 3,
   "id": "9f251a12",
   "metadata": {
    "execution": {
     "iopub.execute_input": "2023-12-03T20:19:50.478765Z",
     "iopub.status.busy": "2023-12-03T20:19:50.477901Z",
     "iopub.status.idle": "2023-12-03T20:19:54.272407Z",
     "shell.execute_reply": "2023-12-03T20:19:54.271409Z",
     "shell.execute_reply.started": "2023-12-03T20:19:50.478733Z"
    }
   },
   "outputs": [
    {
     "data": {
      "text/html": [
       "<div>\n",
       "<style scoped>\n",
       "    .dataframe tbody tr th:only-of-type {\n",
       "        vertical-align: middle;\n",
       "    }\n",
       "\n",
       "    .dataframe tbody tr th {\n",
       "        vertical-align: top;\n",
       "    }\n",
       "\n",
       "    .dataframe thead th {\n",
       "        text-align: right;\n",
       "    }\n",
       "</style>\n",
       "<table border=\"1\" class=\"dataframe\">\n",
       "  <thead>\n",
       "    <tr style=\"text-align: right;\">\n",
       "      <th></th>\n",
       "      <th>id</th>\n",
       "      <th>comment_text</th>\n",
       "      <th>toxic</th>\n",
       "      <th>severe_toxic</th>\n",
       "      <th>obscene</th>\n",
       "      <th>threat</th>\n",
       "      <th>insult</th>\n",
       "      <th>identity_hate</th>\n",
       "    </tr>\n",
       "  </thead>\n",
       "  <tbody>\n",
       "    <tr>\n",
       "      <th>0</th>\n",
       "      <td>0000997932d777bf</td>\n",
       "      <td>Explanation\\nWhy the edits made under my usern...</td>\n",
       "      <td>0</td>\n",
       "      <td>0</td>\n",
       "      <td>0</td>\n",
       "      <td>0</td>\n",
       "      <td>0</td>\n",
       "      <td>0</td>\n",
       "    </tr>\n",
       "    <tr>\n",
       "      <th>1</th>\n",
       "      <td>000103f0d9cfb60f</td>\n",
       "      <td>D'aww! He matches this background colour I'm s...</td>\n",
       "      <td>0</td>\n",
       "      <td>0</td>\n",
       "      <td>0</td>\n",
       "      <td>0</td>\n",
       "      <td>0</td>\n",
       "      <td>0</td>\n",
       "    </tr>\n",
       "    <tr>\n",
       "      <th>2</th>\n",
       "      <td>000113f07ec002fd</td>\n",
       "      <td>Hey man, I'm really not trying to edit war. It...</td>\n",
       "      <td>0</td>\n",
       "      <td>0</td>\n",
       "      <td>0</td>\n",
       "      <td>0</td>\n",
       "      <td>0</td>\n",
       "      <td>0</td>\n",
       "    </tr>\n",
       "    <tr>\n",
       "      <th>3</th>\n",
       "      <td>0001b41b1c6bb37e</td>\n",
       "      <td>\"\\nMore\\nI can't make any real suggestions on ...</td>\n",
       "      <td>0</td>\n",
       "      <td>0</td>\n",
       "      <td>0</td>\n",
       "      <td>0</td>\n",
       "      <td>0</td>\n",
       "      <td>0</td>\n",
       "    </tr>\n",
       "    <tr>\n",
       "      <th>4</th>\n",
       "      <td>0001d958c54c6e35</td>\n",
       "      <td>You, sir, are my hero. Any chance you remember...</td>\n",
       "      <td>0</td>\n",
       "      <td>0</td>\n",
       "      <td>0</td>\n",
       "      <td>0</td>\n",
       "      <td>0</td>\n",
       "      <td>0</td>\n",
       "    </tr>\n",
       "  </tbody>\n",
       "</table>\n",
       "</div>"
      ],
      "text/plain": [
       "                 id                                       comment_text  toxic  \\\n",
       "0  0000997932d777bf  Explanation\\nWhy the edits made under my usern...      0   \n",
       "1  000103f0d9cfb60f  D'aww! He matches this background colour I'm s...      0   \n",
       "2  000113f07ec002fd  Hey man, I'm really not trying to edit war. It...      0   \n",
       "3  0001b41b1c6bb37e  \"\\nMore\\nI can't make any real suggestions on ...      0   \n",
       "4  0001d958c54c6e35  You, sir, are my hero. Any chance you remember...      0   \n",
       "\n",
       "   severe_toxic  obscene  threat  insult  identity_hate  \n",
       "0             0        0       0       0              0  \n",
       "1             0        0       0       0              0  \n",
       "2             0        0       0       0              0  \n",
       "3             0        0       0       0              0  \n",
       "4             0        0       0       0              0  "
      ]
     },
     "execution_count": 3,
     "metadata": {},
     "output_type": "execute_result"
    }
   ],
   "source": [
    "\n",
    "df_train = pd.read_csv('/content/drive/MyDrive/Coventry University/NLP CW 2/train.csv')\n",
    "df_test = pd.read_csv('/content/drive/MyDrive/Coventry University/NLP CW 2/test.csv')\n",
    "\n",
    "sample_submission = pd.read_csv(\"/content/drive/MyDrive/Coventry University/NLP CW 2/sample_submission.csv\")\n",
    "test_labels = pd.read_csv('/content/drive/MyDrive/Coventry University/NLP CW 2/test_labels.csv')\n",
    "\n",
    "\n",
    "df_train.head()\n"
   ]
  },
  {
   "cell_type": "code",
   "execution_count": 4,
   "id": "43ab3958",
   "metadata": {
    "execution": {
     "iopub.execute_input": "2023-12-03T20:20:02.600964Z",
     "iopub.status.busy": "2023-12-03T20:20:02.600349Z",
     "iopub.status.idle": "2023-12-03T20:20:03.749152Z",
     "shell.execute_reply": "2023-12-03T20:20:03.748392Z",
     "shell.execute_reply.started": "2023-12-03T20:20:02.600932Z"
    }
   },
   "outputs": [
    {
     "data": {
      "application/vnd.jupyter.widget-view+json": {
       "model_id": "77730821d6ee417cacba64fe64dab221",
       "version_major": 2,
       "version_minor": 0
      },
      "text/plain": [
       "Downloading tokenizer_config.json:   0%|          | 0.00/29.0 [00:00<?, ?B/s]"
      ]
     },
     "metadata": {},
     "output_type": "display_data"
    },
    {
     "data": {
      "application/vnd.jupyter.widget-view+json": {
       "model_id": "c2b6e9b3b6ef4d4e845909bc27101470",
       "version_major": 2,
       "version_minor": 0
      },
      "text/plain": [
       "Downloading vocab.txt:   0%|          | 0.00/213k [00:00<?, ?B/s]"
      ]
     },
     "metadata": {},
     "output_type": "display_data"
    },
    {
     "data": {
      "application/vnd.jupyter.widget-view+json": {
       "model_id": "d6313b94a1a547979895d0c35b031538",
       "version_major": 2,
       "version_minor": 0
      },
      "text/plain": [
       "Downloading tokenizer.json:   0%|          | 0.00/436k [00:00<?, ?B/s]"
      ]
     },
     "metadata": {},
     "output_type": "display_data"
    },
    {
     "data": {
      "application/vnd.jupyter.widget-view+json": {
       "model_id": "1df6cc84b7704a3d89da899db2585a39",
       "version_major": 2,
       "version_minor": 0
      },
      "text/plain": [
       "Downloading config.json:   0%|          | 0.00/465 [00:00<?, ?B/s]"
      ]
     },
     "metadata": {},
     "output_type": "display_data"
    }
   ],
   "source": [
    "# initializing a tokenizer using DistilBERT pre-trained weights for tokenizing text\n",
    "tokenizer = DistilBertTokenizer.from_pretrained('distilbert-base-cased')"
   ]
  },
  {
   "cell_type": "code",
   "execution_count": 6,
   "id": "1ab2d6ea",
   "metadata": {
    "execution": {
     "iopub.execute_input": "2023-12-03T20:21:15.460323Z",
     "iopub.status.busy": "2023-12-03T20:21:15.459595Z",
     "iopub.status.idle": "2023-12-03T20:26:41.212577Z",
     "shell.execute_reply": "2023-12-03T20:26:41.211558Z",
     "shell.execute_reply.started": "2023-12-03T20:21:15.460286Z"
    }
   },
   "outputs": [
    {
     "name": "stdout",
     "output_type": "stream",
     "text": [
      "count    159571.000000\n",
      "mean         97.726022\n",
      "std         155.622601\n",
      "min           2.000000\n",
      "25%          26.000000\n",
      "50%          52.000000\n",
      "75%         106.000000\n",
      "max        4948.000000\n",
      "Name: comment_length, dtype: float64\n"
     ]
    }
   ],
   "source": [
    "# calculating comment lengths\n",
    "df_train['comment_length'] = df_train['comment_text'].apply(lambda x: len(tokenizer.tokenize(x)))\n",
    "\n",
    "# displaying summary stats\n",
    "print(df_train['comment_length'].describe())\n"
   ]
  },
  {
   "cell_type": "code",
   "execution_count": 7,
   "id": "92d4e270",
   "metadata": {
    "execution": {
     "iopub.execute_input": "2023-12-03T20:26:41.214571Z",
     "iopub.status.busy": "2023-12-03T20:26:41.214292Z",
     "iopub.status.idle": "2023-12-03T20:26:41.260318Z",
     "shell.execute_reply": "2023-12-03T20:26:41.259507Z",
     "shell.execute_reply.started": "2023-12-03T20:26:41.214547Z"
    }
   },
   "outputs": [],
   "source": [
    "y = df_train[['toxic','severe_toxic','obscene','threat','insult','identity_hate']].astype(float)\n",
    "X = df_train['comment_text']\n",
    "\n",
    "# 80 train, 20 validation split\n",
    "X_train, X_val, y_train, y_val = train_test_split( X, y, test_size=0.2, random_state=96)"
   ]
  },
  {
   "cell_type": "code",
   "execution_count": 8,
   "id": "4e82d73c",
   "metadata": {
    "execution": {
     "iopub.execute_input": "2023-12-03T20:26:41.261887Z",
     "iopub.status.busy": "2023-12-03T20:26:41.261508Z",
     "iopub.status.idle": "2023-12-03T20:26:41.267407Z",
     "shell.execute_reply": "2023-12-03T20:26:41.266447Z",
     "shell.execute_reply.started": "2023-12-03T20:26:41.261848Z"
    }
   },
   "outputs": [
    {
     "name": "stdout",
     "output_type": "stream",
     "text": [
      "X_train shape is {(127656,)}\n",
      "X_val shape is {(31915,)}\n",
      "y_train shape is {(127656, 6)}\n"
     ]
    }
   ],
   "source": [
    "print('X_train shape is {}' .format({X_train.shape}))\n",
    "print('X_val shape is {}' .format({X_val.shape}))\n",
    "print('y_train shape is {}' .format({y_train.shape}))"
   ]
  },
  {
   "cell_type": "code",
   "execution_count": 9,
   "id": "19989066",
   "metadata": {
    "execution": {
     "iopub.execute_input": "2023-12-03T20:26:41.271386Z",
     "iopub.status.busy": "2023-12-03T20:26:41.270775Z",
     "iopub.status.idle": "2023-12-03T20:26:41.279421Z",
     "shell.execute_reply": "2023-12-03T20:26:41.278624Z",
     "shell.execute_reply.started": "2023-12-03T20:26:41.271359Z"
    }
   },
   "outputs": [],
   "source": [
    "X_train = X_train.values\n",
    "X_val = X_val.values\n",
    "y_train = y_train.values\n",
    "y_val = y_val.values"
   ]
  },
  {
   "cell_type": "code",
   "execution_count": 10,
   "id": "5066db16",
   "metadata": {
    "execution": {
     "iopub.execute_input": "2023-12-03T20:26:41.280865Z",
     "iopub.status.busy": "2023-12-03T20:26:41.280542Z",
     "iopub.status.idle": "2023-12-03T20:26:41.294268Z",
     "shell.execute_reply": "2023-12-03T20:26:41.293506Z",
     "shell.execute_reply.started": "2023-12-03T20:26:41.280832Z"
    }
   },
   "outputs": [],
   "source": [
    "# defining custom function to calculate accuracy\n",
    "\n",
    "def accuracy_threshold(y_pred, y_true, thresh:float=0.4, sigmoid:bool=True):\n",
    "    \"Compute accuracy when `y_pred` and `y_true` are the same size.\"\n",
    "    if sigmoid: y_pred = y_pred.sigmoid()\n",
    "    return np.mean(((y_pred>thresh).float()==y_true.float()).float().cpu().numpy(), axis=1).sum()"
   ]
  },
  {
   "cell_type": "code",
   "execution_count": 11,
   "id": "7849341a",
   "metadata": {
    "execution": {
     "iopub.execute_input": "2023-12-03T20:26:41.295702Z",
     "iopub.status.busy": "2023-12-03T20:26:41.295372Z",
     "iopub.status.idle": "2023-12-03T20:26:41.305535Z",
     "shell.execute_reply": "2023-12-03T20:26:41.304803Z",
     "shell.execute_reply.started": "2023-12-03T20:26:41.295669Z"
    }
   },
   "outputs": [],
   "source": [
    "# initializing a DistilBertConfig\n",
    "\n",
    "config = DistilBertConfig(#vocab_size=32000,\n",
    "                          dropout=0.1,\n",
    "                          num_labels=6,\n",
    "                          n_layers=12,\n",
    "                          n_heads=12,\n",
    "                          hidden_dim=300)"
   ]
  },
  {
   "cell_type": "code",
   "execution_count": 12,
   "id": "a4ab9706",
   "metadata": {
    "execution": {
     "iopub.execute_input": "2023-12-03T20:26:41.307082Z",
     "iopub.status.busy": "2023-12-03T20:26:41.306659Z",
     "iopub.status.idle": "2023-12-03T20:26:41.321025Z",
     "shell.execute_reply": "2023-12-03T20:26:41.320336Z",
     "shell.execute_reply.started": "2023-12-03T20:26:41.307051Z"
    }
   },
   "outputs": [],
   "source": [
    "# defining a PyTorch module for fine-tuning DistilBERT for sequence classification.\n",
    "# includes loading the pre-trained DistilBERT model,\n",
    "# adding additional layers for classification, and specifying the forward pass logic. \n",
    "\n",
    "\n",
    "class DistilBertForSequenceClassification(nn.Module):\n",
    "    def __init__(self, config):\n",
    "        super().__init__()\n",
    "        self.num_labels = config.num_labels\n",
    "\n",
    "        # loading pre-trained DistilBERT model\n",
    "        self.distilbert = DistilBertModel.from_pretrained('distilbert-base-cased')\n",
    "\n",
    "        # additional layers for sequence classification\n",
    "        self.pre_classifier = nn.Linear(config.hidden_size, config.hidden_size)\n",
    "        self.classifier = nn.Linear(config.hidden_size, config.num_labels)\n",
    "        self.dropout = nn.Dropout(config.seq_classif_dropout)\n",
    "\n",
    "        # initializing classifier weights\n",
    "        nn.init.xavier_normal_(self.classifier.weight)\n",
    "\n",
    "    def forward(self, input_ids=None, attention_mask=None, head_mask=None, labels=None):\n",
    "        # forward pass through DistilBERT\n",
    "        distilbert_output = self.distilbert(input_ids=input_ids,\n",
    "                                            attention_mask=attention_mask,\n",
    "                                            head_mask=head_mask)\n",
    "        hidden_state = distilbert_output[0]\n",
    "\n",
    "        # pooling and additional layers\n",
    "        pooled_output = hidden_state[:, 0]\n",
    "        pooled_output = self.pre_classifier(pooled_output)\n",
    "        pooled_output = nn.ReLU()(pooled_output)\n",
    "        pooled_output = self.dropout(pooled_output)\n",
    "\n",
    "        # final classification layer\n",
    "        logits = self.classifier(pooled_output)\n",
    "\n",
    "        return logits\n"
   ]
  },
  {
   "cell_type": "code",
   "execution_count": 13,
   "id": "1cacf90a",
   "metadata": {
    "execution": {
     "iopub.execute_input": "2023-12-03T20:26:41.322374Z",
     "iopub.status.busy": "2023-12-03T20:26:41.322123Z",
     "iopub.status.idle": "2023-12-03T20:26:41.339802Z",
     "shell.execute_reply": "2023-12-03T20:26:41.338993Z",
     "shell.execute_reply.started": "2023-12-03T20:26:41.322352Z"
    }
   },
   "outputs": [],
   "source": [
    "# The TextDataset class is a custom dataset class that inherits from PyTorch's Dataset class.\n",
    "# It is designed to handle text data and is used in the context of training neural network models,\n",
    "# particularly those using transformers like DistilBERT\n",
    "\n",
    "\n",
    "max_seq_length = 128\n",
    "\n",
    "class TextDataset(Dataset):\n",
    "    def __init__(self, x, y, transform=None):\n",
    "\n",
    "        self.x = x\n",
    "        self.y = y\n",
    "        self.transform = transform\n",
    "\n",
    "    def __getitem__(self, index):\n",
    "\n",
    "        tokenized_comment = tokenizer.tokenize(self.x[index])\n",
    "\n",
    "        # pad the tokenized comment to the maximum sequence length\n",
    "        if len(tokenized_comment) > max_seq_length:\n",
    "            tokenized_comment = tokenized_comment[:max_seq_length]\n",
    "\n",
    "        ids_review = tokenizer.convert_tokens_to_ids(tokenized_comment)\n",
    "\n",
    "        # padding to achieve the desired sequence length\n",
    "        padding = [0] * (max_seq_length - len(ids_review))\n",
    "        ids_review += padding\n",
    "\n",
    "        assert len(ids_review) == max_seq_length\n",
    "\n",
    "        ids_review = torch.tensor(ids_review)\n",
    "\n",
    "        # retrieving the label for the current index\n",
    "        hcc = self.y[index]\n",
    "        list_of_labels = [torch.from_numpy(hcc)]\n",
    "\n",
    "        return ids_review, list_of_labels[0]\n",
    "\n",
    "    def __len__(self):\n",
    "\n",
    "        return len(self.x)\n"
   ]
  },
  {
   "cell_type": "code",
   "execution_count": 14,
   "id": "32400af4",
   "metadata": {
    "execution": {
     "iopub.execute_input": "2023-12-03T20:26:41.341216Z",
     "iopub.status.busy": "2023-12-03T20:26:41.340882Z",
     "iopub.status.idle": "2023-12-03T20:26:41.506243Z",
     "shell.execute_reply": "2023-12-03T20:26:41.505357Z",
     "shell.execute_reply.started": "2023-12-03T20:26:41.341185Z"
    }
   },
   "outputs": [
    {
     "data": {
      "text/plain": [
       "tensor([0., 0., 0., 0., 0., 0.], dtype=torch.float64)"
      ]
     },
     "execution_count": 14,
     "metadata": {},
     "output_type": "execute_result"
    }
   ],
   "source": [
    "text_dataset(X_train, y_train).__getitem__(9)[1]   ### Testing index 9 to see output\n"
   ]
  },
  {
   "cell_type": "code",
   "execution_count": 15,
   "id": "848b4c6c",
   "metadata": {
    "execution": {
     "iopub.execute_input": "2023-12-03T20:26:41.509281Z",
     "iopub.status.busy": "2023-12-03T20:26:41.508992Z",
     "iopub.status.idle": "2023-12-03T20:26:49.181565Z",
     "shell.execute_reply": "2023-12-03T20:26:49.180601Z",
     "shell.execute_reply.started": "2023-12-03T20:26:41.509256Z"
    }
   },
   "outputs": [
    {
     "data": {
      "application/vnd.jupyter.widget-view+json": {
       "model_id": "7889fab29c464ebbb54b54e47d387a94",
       "version_major": 2,
       "version_minor": 0
      },
      "text/plain": [
       "Downloading model.safetensors:   0%|          | 0.00/263M [00:00<?, ?B/s]"
      ]
     },
     "metadata": {},
     "output_type": "display_data"
    },
    {
     "name": "stdout",
     "output_type": "stream",
     "text": [
      "cuda:0\n"
     ]
    }
   ],
   "source": [
    "batch_size = 32\n",
    "\n",
    "# creating training and test datasets\n",
    "training_dataset = TextDataset(X_train, y_train)\n",
    "test_dataset = TextDataset(X_val, y_val)\n",
    "\n",
    "# creating DataLoader instances for training and validation\n",
    "dataloaders_dict = {\n",
    "    'train': torch.utils.data.DataLoader(training_dataset, batch_size=batch_size, shuffle=False),\n",
    "    'val': torch.utils.data.DataLoader(test_dataset, batch_size=batch_size, shuffle=False)\n",
    "}\n",
    "\n",
    "# storing the sizes of the training and validation datasets\n",
    "dataset_sizes = {'train': len(X_train), 'val': len(X_val)}\n",
    "\n",
    "# choosing the device; gpu if available, otherwise local cpu\n",
    "device = torch.device(\"cuda:0\" if torch.cuda.is_available() else \"cpu\")\n",
    "\n",
    "# initializing the DistilBERT model for sequence classification\n",
    "model = DistilBertForSequenceClassification(config)\n",
    "\n",
    "# moving the model to the chosen device\n",
    "model.to(device)\n",
    "\n",
    "# printing the chosen device (GPU or CPU)\n",
    "print(device)\n"
   ]
  },
  {
   "cell_type": "code",
   "execution_count": 16,
   "id": "314d2093",
   "metadata": {
    "execution": {
     "iopub.execute_input": "2023-12-03T20:26:49.183336Z",
     "iopub.status.busy": "2023-12-03T20:26:49.183050Z",
     "iopub.status.idle": "2023-12-03T20:26:49.197228Z",
     "shell.execute_reply": "2023-12-03T20:26:49.196295Z",
     "shell.execute_reply.started": "2023-12-03T20:26:49.183310Z"
    }
   },
   "outputs": [],
   "source": [
    "def train_model(model, criterion, optimizer, scheduler, num_epochs=2):\n",
    "    model.train()\n",
    "    since = time.time()\n",
    "    print('Running')\n",
    "    best_model_wts = copy.deepcopy(model.state_dict())\n",
    "    best_loss = 100\n",
    "\n",
    "    for epoch in range(num_epochs):\n",
    "        print('Epoch {}/{}'.format(epoch + 1, num_epochs))\n",
    "        print('-' * 10)\n",
    "\n",
    "        # Each epoch has a training and validation phase\n",
    "        for phase in ['train', 'val']:\n",
    "            if phase == 'train':\n",
    "                model.train()  # setting model to training mode\n",
    "            else:\n",
    "                model.eval()   # setting model to evaluate mode\n",
    "\n",
    "            running_loss = 0.0\n",
    "            beta_score_accuracy = 0.0\n",
    "            micro_roc_auc_acc = 0.0\n",
    "\n",
    "            # iterating over data\n",
    "            for inputs, hcc in dataloaders_dict[phase]:\n",
    "                inputs = inputs.to(device)\n",
    "                hcc = hcc.to(device)\n",
    "\n",
    "                optimizer.zero_grad()\n",
    "\n",
    "\n",
    "                with torch.set_grad_enabled(phase == 'train'):\n",
    "                    outputs = model(inputs)\n",
    "\n",
    "                    loss = criterion(outputs, hcc.float())\n",
    "\n",
    "                    if phase == 'train':\n",
    "                        loss.backward()\n",
    "                        optimizer.step()\n",
    "                        scheduler.step()  \n",
    "\n",
    "                running_loss += loss.item() * inputs.size(0)\n",
    "                micro_roc_auc_acc += accuracy_threshold(outputs.view(-1, 6), hcc.view(-1, 6))\n",
    "\n",
    "            epoch_loss = running_loss / dataset_sizes[phase]\n",
    "            epoch_micro_roc_acc = micro_roc_auc_acc / dataset_sizes[phase]\n",
    "\n",
    "            print('{} Total Loss: {:.4f} '.format(phase, epoch_loss))\n",
    "            print('{} micro_roc_auc_accuracy: {:.4f}'.format(phase, epoch_micro_roc_acc))\n",
    "\n",
    "\n",
    "        print()\n",
    "\n",
    "    time_elapsed = time.time() - since\n",
    "    print('Training completed in {:.0f}m {:.0f}s'.format(time_elapsed // 60, time_elapsed % 60))\n",
    "    print('Best val Accuracy: {:4f}'.format(float(best_loss)))\n",
    "\n",
    "    # loading best model weights\n",
    "    model.load_state_dict(best_model_wts)\n",
    "    return model"
   ]
  },
  {
   "cell_type": "code",
   "execution_count": 17,
   "id": "65ddadd7",
   "metadata": {
    "execution": {
     "iopub.execute_input": "2023-12-03T20:26:49.198652Z",
     "iopub.status.busy": "2023-12-03T20:26:49.198367Z",
     "iopub.status.idle": "2023-12-03T20:26:49.217958Z",
     "shell.execute_reply": "2023-12-03T20:26:49.217182Z",
     "shell.execute_reply.started": "2023-12-03T20:26:49.198628Z"
    }
   },
   "outputs": [],
   "source": [
    "lr = 0.001  # Learning rate\n",
    "\n",
    "# define the optimizer with Adam optimizer\n",
    "optimizer = torch.optim.Adam(model.parameters(), lr)\n",
    "\n",
    "# fine-tuning optimizer\n",
    "ft_optimizer = optimizer\n",
    "\n",
    "# defining the loss criterion as Binary Cross Entropy with Logits Loss\n",
    "criterion = nn.BCEWithLogitsLoss()\n",
    "\n",
    "# defining the learning rate scheduler with a step size of 3 and a gamma of 0.1\n",
    "exp_lr_scheduler = lr_scheduler.StepLR(ft_optimizer, step_size=3, gamma=0.1\n"
   ]
  },
  {
   "cell_type": "code",
   "execution_count": 18,
   "id": "4f606de4",
   "metadata": {
    "execution": {
     "iopub.execute_input": "2023-12-03T20:26:49.219123Z",
     "iopub.status.busy": "2023-12-03T20:26:49.218847Z",
     "iopub.status.idle": "2023-12-03T22:16:26.888658Z",
     "shell.execute_reply": "2023-12-03T22:16:26.887765Z",
     "shell.execute_reply.started": "2023-12-03T20:26:49.219100Z"
    }
   },
   "outputs": [
    {
     "name": "stdout",
     "output_type": "stream",
     "text": [
      "Running\n",
      "Epoch 1/4\n",
      "----------\n"
     ]
    },
    {
     "name": "stderr",
     "output_type": "stream",
     "text": [
      "We strongly recommend passing in an `attention_mask` since your input_ids may be padded. See https://huggingface.co/docs/transformers/troubleshooting#incorrect-output-when-padding-tokens-arent-masked.\n"
     ]
    },
    {
     "name": "stdout",
     "output_type": "stream",
     "text": [
      "train Total Loss: 0.1480 \n",
      "train micro_roc_auc_accuracy: 0.9630\n",
      "val Total Loss: 0.1437 \n",
      "val micro_roc_auc_accuracy: 0.9638\n",
      "\n",
      "Epoch 2/4\n",
      "----------\n",
      "train Total Loss: 0.1478 \n",
      "train micro_roc_auc_accuracy: 0.9632\n",
      "val Total Loss: 0.1437 \n",
      "val micro_roc_auc_accuracy: 0.9638\n",
      "\n",
      "Epoch 3/4\n",
      "----------\n",
      "train Total Loss: 0.1477 \n",
      "train micro_roc_auc_accuracy: 0.9632\n",
      "val Total Loss: 0.1437 \n",
      "val micro_roc_auc_accuracy: 0.9638\n",
      "\n",
      "Epoch 4/4\n",
      "----------\n",
      "train Total Loss: 0.1478 \n",
      "train micro_roc_auc_accuracy: 0.9632\n",
      "val Total Loss: 0.1437 \n",
      "val micro_roc_auc_accuracy: 0.9638\n",
      "\n",
      "Training completed in 109m 38s\n",
      "Best val Accuracy: 100.000000\n"
     ]
    }
   ],
   "source": [
    "# running model\n",
    "ft_model = train_model(model,\n",
    "                        criterion,\n",
    "                        ft_optimizer,\n",
    "                        exp_lr_scheduler,\n",
    "                        num_epochs=4)"
   ]
  },
  {
   "cell_type": "markdown",
   "id": "de767d15",
   "metadata": {},
   "source": [
    "# Making Predictions"
   ]
  },
  {
   "cell_type": "code",
   "execution_count": 20,
   "id": "10687345",
   "metadata": {
    "execution": {
     "iopub.execute_input": "2023-12-03T22:16:26.900571Z",
     "iopub.status.busy": "2023-12-03T22:16:26.900318Z",
     "iopub.status.idle": "2023-12-03T22:16:26.918421Z",
     "shell.execute_reply": "2023-12-03T22:16:26.917704Z",
     "shell.execute_reply.started": "2023-12-03T22:16:26.900548Z"
    }
   },
   "outputs": [],
   "source": [
    "x_test = df_test['comment_text']\n",
    "y_test = np.zeros(x_test.shape[0]*6).reshape(x_test.shape[0],6)\n",
    "\n",
    "test_dataset = text_dataset(x_test,y_test)\n",
    "prediction_dataloader = torch.utils.data.DataLoader(test_dataset, batch_size=1, shuffle=False)\n",
    "\n",
    "# custom function to loop over data and predict probabilities\n",
    "def prediction(model,test_loader):\n",
    "    predictions_list = []\n",
    "    for inputs, sentiment in test_loader:\n",
    "        inputs = inputs.to(device)\n",
    "        sentiment = sentiment.to(device)\n",
    "        with torch.no_grad():\n",
    "            outputs = model(inputs)\n",
    "            outputs = torch.sigmoid(outputs)\n",
    "            predictions_list.append(outputs.cpu().detach().numpy().tolist())\n",
    "    return predictions_list"
   ]
  },
  {
   "cell_type": "code",
   "execution_count": 21,
   "id": "52ca6aa8",
   "metadata": {
    "execution": {
     "iopub.execute_input": "2023-12-03T22:16:26.919630Z",
     "iopub.status.busy": "2023-12-03T22:16:26.919394Z",
     "iopub.status.idle": "2023-12-03T22:39:00.995223Z",
     "shell.execute_reply": "2023-12-03T22:39:00.994113Z",
     "shell.execute_reply.started": "2023-12-03T22:16:26.919608Z"
    }
   },
   "outputs": [],
   "source": [
    "predictions_list = prediction(model=ft_model, test_loader=prediction_dataloader)\n",
    "predictions_list = np.array(predictions_list)[:,0]"
   ]
  },
  {
   "cell_type": "code",
   "execution_count": 22,
   "id": "1b608d2a",
   "metadata": {
    "execution": {
     "iopub.execute_input": "2023-12-03T22:39:00.996933Z",
     "iopub.status.busy": "2023-12-03T22:39:00.996544Z",
     "iopub.status.idle": "2023-12-03T22:39:01.031453Z",
     "shell.execute_reply": "2023-12-03T22:39:01.030506Z",
     "shell.execute_reply.started": "2023-12-03T22:39:00.996880Z"
    }
   },
   "outputs": [
    {
     "data": {
      "text/html": [
       "<div>\n",
       "<style scoped>\n",
       "    .dataframe tbody tr th:only-of-type {\n",
       "        vertical-align: middle;\n",
       "    }\n",
       "\n",
       "    .dataframe tbody tr th {\n",
       "        vertical-align: top;\n",
       "    }\n",
       "\n",
       "    .dataframe thead th {\n",
       "        text-align: right;\n",
       "    }\n",
       "</style>\n",
       "<table border=\"1\" class=\"dataframe\">\n",
       "  <thead>\n",
       "    <tr style=\"text-align: right;\">\n",
       "      <th></th>\n",
       "      <th>id</th>\n",
       "      <th>toxic</th>\n",
       "      <th>severe_toxic</th>\n",
       "      <th>obscene</th>\n",
       "      <th>threat</th>\n",
       "      <th>insult</th>\n",
       "      <th>identity_hate</th>\n",
       "    </tr>\n",
       "  </thead>\n",
       "  <tbody>\n",
       "    <tr>\n",
       "      <th>0</th>\n",
       "      <td>00001cee341fdb12</td>\n",
       "      <td>0.508469</td>\n",
       "      <td>0.642524</td>\n",
       "      <td>0.599179</td>\n",
       "      <td>0.352346</td>\n",
       "      <td>0.491483</td>\n",
       "      <td>0.516694</td>\n",
       "    </tr>\n",
       "    <tr>\n",
       "      <th>1</th>\n",
       "      <td>0000247867823ef7</td>\n",
       "      <td>0.512211</td>\n",
       "      <td>0.604253</td>\n",
       "      <td>0.635151</td>\n",
       "      <td>0.451885</td>\n",
       "      <td>0.458584</td>\n",
       "      <td>0.487915</td>\n",
       "    </tr>\n",
       "    <tr>\n",
       "      <th>2</th>\n",
       "      <td>00013b17ad220c46</td>\n",
       "      <td>0.512489</td>\n",
       "      <td>0.579687</td>\n",
       "      <td>0.654915</td>\n",
       "      <td>0.470100</td>\n",
       "      <td>0.484542</td>\n",
       "      <td>0.507224</td>\n",
       "    </tr>\n",
       "    <tr>\n",
       "      <th>3</th>\n",
       "      <td>00017563c3f7919a</td>\n",
       "      <td>0.529257</td>\n",
       "      <td>0.606250</td>\n",
       "      <td>0.591508</td>\n",
       "      <td>0.429365</td>\n",
       "      <td>0.527066</td>\n",
       "      <td>0.496211</td>\n",
       "    </tr>\n",
       "    <tr>\n",
       "      <th>4</th>\n",
       "      <td>00017695ad8997eb</td>\n",
       "      <td>0.484127</td>\n",
       "      <td>0.628111</td>\n",
       "      <td>0.649418</td>\n",
       "      <td>0.481576</td>\n",
       "      <td>0.490005</td>\n",
       "      <td>0.512863</td>\n",
       "    </tr>\n",
       "  </tbody>\n",
       "</table>\n",
       "</div>"
      ],
      "text/plain": [
       "                 id     toxic  severe_toxic   obscene    threat    insult  \\\n",
       "0  00001cee341fdb12  0.508469      0.642524  0.599179  0.352346  0.491483   \n",
       "1  0000247867823ef7  0.512211      0.604253  0.635151  0.451885  0.458584   \n",
       "2  00013b17ad220c46  0.512489      0.579687  0.654915  0.470100  0.484542   \n",
       "3  00017563c3f7919a  0.529257      0.606250  0.591508  0.429365  0.527066   \n",
       "4  00017695ad8997eb  0.484127      0.628111  0.649418  0.481576  0.490005   \n",
       "\n",
       "   identity_hate  \n",
       "0       0.516694  \n",
       "1       0.487915  \n",
       "2       0.507224  \n",
       "3       0.496211  \n",
       "4       0.512863  "
      ]
     },
     "execution_count": 22,
     "metadata": {},
     "output_type": "execute_result"
    }
   ],
   "source": [
    "submission = pd.DataFrame(predictions_list, columns=['toxic','severe_toxic','obscene','threat','insult','identity_hate'])\n",
    "df_test[['toxic','severe_toxic','obscene','threat','insult','identity_hate']] = submission\n",
    "final_df = df_test[['id','toxic','severe_toxic','obscene','threat','insult','identity_hate']]\n",
    "final_df.head()"
   ]
  },
  {
   "cell_type": "code",
   "execution_count": 23,
   "id": "ae6c4b41",
   "metadata": {
    "execution": {
     "iopub.execute_input": "2023-12-03T22:39:01.033020Z",
     "iopub.status.busy": "2023-12-03T22:39:01.032650Z",
     "iopub.status.idle": "2023-12-03T22:39:03.101643Z",
     "shell.execute_reply": "2023-12-03T22:39:03.100537Z",
     "shell.execute_reply.started": "2023-12-03T22:39:01.032985Z"
    }
   },
   "outputs": [],
   "source": [
    "final_df.to_csv('/content/drive/MyDrive/Coventry University/NLP CW 2/distilBERT_submission.csv', index=False)"
   ]
  },
  {
   "cell_type": "code",
   "execution_count": null,
   "id": "ecc5f4a5",
   "metadata": {},
   "outputs": [],
   "source": []
  },
  {
   "cell_type": "code",
   "execution_count": null,
   "id": "a2777831",
   "metadata": {},
   "outputs": [],
   "source": []
  }
 ],
 "metadata": {
  "accelerator": "GPU",
  "colab": {
   "gpuType": "T4",
   "provenance": []
  },
  "kernelspec": {
   "display_name": "Python 3 (ipykernel)",
   "language": "python",
   "name": "python3"
  },
  "language_info": {
   "codemirror_mode": {
    "name": "ipython",
    "version": 3
   },
   "file_extension": ".py",
   "mimetype": "text/x-python",
   "name": "python",
   "nbconvert_exporter": "python",
   "pygments_lexer": "ipython3",
   "version": "3.11.5"
  },
  "widgets": {
   "application/vnd.jupyter.widget-state+json": {
    "0372560aacae4cd893270d7620547fa7": {
     "model_module": "@jupyter-widgets/controls",
     "model_module_version": "1.5.0",
     "model_name": "DescriptionStyleModel",
     "state": {
      "_model_module": "@jupyter-widgets/controls",
      "_model_module_version": "1.5.0",
      "_model_name": "DescriptionStyleModel",
      "_view_count": null,
      "_view_module": "@jupyter-widgets/base",
      "_view_module_version": "1.2.0",
      "_view_name": "StyleView",
      "description_width": ""
     }
    },
    "0d620d412027411394e025b6ee59f6d8": {
     "model_module": "@jupyter-widgets/controls",
     "model_module_version": "1.5.0",
     "model_name": "HTMLModel",
     "state": {
      "_dom_classes": [],
      "_model_module": "@jupyter-widgets/controls",
      "_model_module_version": "1.5.0",
      "_model_name": "HTMLModel",
      "_view_count": null,
      "_view_module": "@jupyter-widgets/controls",
      "_view_module_version": "1.5.0",
      "_view_name": "HTMLView",
      "description": "",
      "description_tooltip": null,
      "layout": "IPY_MODEL_5703fe52ae7e47b486614d9ab77e5d25",
      "placeholder": "​",
      "style": "IPY_MODEL_2f468d9b15854588b2b8f559c7a02104",
      "value": " 213k/213k [00:00&lt;00:00, 7.72MB/s]"
     }
    },
    "0ef7be617dd84bbbbc93ee4a6e1a6f0b": {
     "model_module": "@jupyter-widgets/controls",
     "model_module_version": "1.5.0",
     "model_name": "HBoxModel",
     "state": {
      "_dom_classes": [],
      "_model_module": "@jupyter-widgets/controls",
      "_model_module_version": "1.5.0",
      "_model_name": "HBoxModel",
      "_view_count": null,
      "_view_module": "@jupyter-widgets/controls",
      "_view_module_version": "1.5.0",
      "_view_name": "HBoxView",
      "box_style": "",
      "children": [
       "IPY_MODEL_a0b1351376264b409a602b7dfd9a2999",
       "IPY_MODEL_8ad652cabd664e999980d6e11e9df90c",
       "IPY_MODEL_0d620d412027411394e025b6ee59f6d8"
      ],
      "layout": "IPY_MODEL_5ca9ec78cc11401b962e1cec73ec4e2d"
     }
    },
    "1bc6a9159b3148d4b3cb76e7fdf811f4": {
     "model_module": "@jupyter-widgets/base",
     "model_module_version": "1.2.0",
     "model_name": "LayoutModel",
     "state": {
      "_model_module": "@jupyter-widgets/base",
      "_model_module_version": "1.2.0",
      "_model_name": "LayoutModel",
      "_view_count": null,
      "_view_module": "@jupyter-widgets/base",
      "_view_module_version": "1.2.0",
      "_view_name": "LayoutView",
      "align_content": null,
      "align_items": null,
      "align_self": null,
      "border": null,
      "bottom": null,
      "display": null,
      "flex": null,
      "flex_flow": null,
      "grid_area": null,
      "grid_auto_columns": null,
      "grid_auto_flow": null,
      "grid_auto_rows": null,
      "grid_column": null,
      "grid_gap": null,
      "grid_row": null,
      "grid_template_areas": null,
      "grid_template_columns": null,
      "grid_template_rows": null,
      "height": null,
      "justify_content": null,
      "justify_items": null,
      "left": null,
      "margin": null,
      "max_height": null,
      "max_width": null,
      "min_height": null,
      "min_width": null,
      "object_fit": null,
      "object_position": null,
      "order": null,
      "overflow": null,
      "overflow_x": null,
      "overflow_y": null,
      "padding": null,
      "right": null,
      "top": null,
      "visibility": null,
      "width": null
     }
    },
    "26ff61b0067e475dbb5cccfa1141f62e": {
     "model_module": "@jupyter-widgets/controls",
     "model_module_version": "1.5.0",
     "model_name": "DescriptionStyleModel",
     "state": {
      "_model_module": "@jupyter-widgets/controls",
      "_model_module_version": "1.5.0",
      "_model_name": "DescriptionStyleModel",
      "_view_count": null,
      "_view_module": "@jupyter-widgets/base",
      "_view_module_version": "1.2.0",
      "_view_name": "StyleView",
      "description_width": ""
     }
    },
    "273b586a96e2462e80b05de74fee8bd2": {
     "model_module": "@jupyter-widgets/controls",
     "model_module_version": "1.5.0",
     "model_name": "ProgressStyleModel",
     "state": {
      "_model_module": "@jupyter-widgets/controls",
      "_model_module_version": "1.5.0",
      "_model_name": "ProgressStyleModel",
      "_view_count": null,
      "_view_module": "@jupyter-widgets/base",
      "_view_module_version": "1.2.0",
      "_view_name": "StyleView",
      "bar_color": null,
      "description_width": ""
     }
    },
    "2c58646dcbf14611870b47823d8f6269": {
     "model_module": "@jupyter-widgets/controls",
     "model_module_version": "1.5.0",
     "model_name": "HTMLModel",
     "state": {
      "_dom_classes": [],
      "_model_module": "@jupyter-widgets/controls",
      "_model_module_version": "1.5.0",
      "_model_name": "HTMLModel",
      "_view_count": null,
      "_view_module": "@jupyter-widgets/controls",
      "_view_module_version": "1.5.0",
      "_view_name": "HTMLView",
      "description": "",
      "description_tooltip": null,
      "layout": "IPY_MODEL_85e2e8c1a1cf4c1d8107f1367bec96b5",
      "placeholder": "​",
      "style": "IPY_MODEL_da849d11a7974ce4af4162f95babcc5f",
      "value": "config.json: 100%"
     }
    },
    "2f468d9b15854588b2b8f559c7a02104": {
     "model_module": "@jupyter-widgets/controls",
     "model_module_version": "1.5.0",
     "model_name": "DescriptionStyleModel",
     "state": {
      "_model_module": "@jupyter-widgets/controls",
      "_model_module_version": "1.5.0",
      "_model_name": "DescriptionStyleModel",
      "_view_count": null,
      "_view_module": "@jupyter-widgets/base",
      "_view_module_version": "1.2.0",
      "_view_name": "StyleView",
      "description_width": ""
     }
    },
    "44f3c3d06fa14aa19c8534fcba5ec9e0": {
     "model_module": "@jupyter-widgets/base",
     "model_module_version": "1.2.0",
     "model_name": "LayoutModel",
     "state": {
      "_model_module": "@jupyter-widgets/base",
      "_model_module_version": "1.2.0",
      "_model_name": "LayoutModel",
      "_view_count": null,
      "_view_module": "@jupyter-widgets/base",
      "_view_module_version": "1.2.0",
      "_view_name": "LayoutView",
      "align_content": null,
      "align_items": null,
      "align_self": null,
      "border": null,
      "bottom": null,
      "display": null,
      "flex": null,
      "flex_flow": null,
      "grid_area": null,
      "grid_auto_columns": null,
      "grid_auto_flow": null,
      "grid_auto_rows": null,
      "grid_column": null,
      "grid_gap": null,
      "grid_row": null,
      "grid_template_areas": null,
      "grid_template_columns": null,
      "grid_template_rows": null,
      "height": null,
      "justify_content": null,
      "justify_items": null,
      "left": null,
      "margin": null,
      "max_height": null,
      "max_width": null,
      "min_height": null,
      "min_width": null,
      "object_fit": null,
      "object_position": null,
      "order": null,
      "overflow": null,
      "overflow_x": null,
      "overflow_y": null,
      "padding": null,
      "right": null,
      "top": null,
      "visibility": null,
      "width": null
     }
    },
    "50c880327e874cef9251571ffe4d4fd4": {
     "model_module": "@jupyter-widgets/base",
     "model_module_version": "1.2.0",
     "model_name": "LayoutModel",
     "state": {
      "_model_module": "@jupyter-widgets/base",
      "_model_module_version": "1.2.0",
      "_model_name": "LayoutModel",
      "_view_count": null,
      "_view_module": "@jupyter-widgets/base",
      "_view_module_version": "1.2.0",
      "_view_name": "LayoutView",
      "align_content": null,
      "align_items": null,
      "align_self": null,
      "border": null,
      "bottom": null,
      "display": null,
      "flex": null,
      "flex_flow": null,
      "grid_area": null,
      "grid_auto_columns": null,
      "grid_auto_flow": null,
      "grid_auto_rows": null,
      "grid_column": null,
      "grid_gap": null,
      "grid_row": null,
      "grid_template_areas": null,
      "grid_template_columns": null,
      "grid_template_rows": null,
      "height": null,
      "justify_content": null,
      "justify_items": null,
      "left": null,
      "margin": null,
      "max_height": null,
      "max_width": null,
      "min_height": null,
      "min_width": null,
      "object_fit": null,
      "object_position": null,
      "order": null,
      "overflow": null,
      "overflow_x": null,
      "overflow_y": null,
      "padding": null,
      "right": null,
      "top": null,
      "visibility": null,
      "width": null
     }
    },
    "532cd368a5c443b5b35d4071efde26ad": {
     "model_module": "@jupyter-widgets/controls",
     "model_module_version": "1.5.0",
     "model_name": "HBoxModel",
     "state": {
      "_dom_classes": [],
      "_model_module": "@jupyter-widgets/controls",
      "_model_module_version": "1.5.0",
      "_model_name": "HBoxModel",
      "_view_count": null,
      "_view_module": "@jupyter-widgets/controls",
      "_view_module_version": "1.5.0",
      "_view_name": "HBoxView",
      "box_style": "",
      "children": [
       "IPY_MODEL_a1e3c45545f24c5ab8b88368a89a4f2c",
       "IPY_MODEL_a2f39baa692e47599fd8ec66761c2345",
       "IPY_MODEL_803b1813f7584326af33f208e1c571ad"
      ],
      "layout": "IPY_MODEL_edb20d38c6e248be9d7afcce62dd7f45"
     }
    },
    "55f73617633a4bff9bf09b1d699d0649": {
     "model_module": "@jupyter-widgets/controls",
     "model_module_version": "1.5.0",
     "model_name": "DescriptionStyleModel",
     "state": {
      "_model_module": "@jupyter-widgets/controls",
      "_model_module_version": "1.5.0",
      "_model_name": "DescriptionStyleModel",
      "_view_count": null,
      "_view_module": "@jupyter-widgets/base",
      "_view_module_version": "1.2.0",
      "_view_name": "StyleView",
      "description_width": ""
     }
    },
    "5703fe52ae7e47b486614d9ab77e5d25": {
     "model_module": "@jupyter-widgets/base",
     "model_module_version": "1.2.0",
     "model_name": "LayoutModel",
     "state": {
      "_model_module": "@jupyter-widgets/base",
      "_model_module_version": "1.2.0",
      "_model_name": "LayoutModel",
      "_view_count": null,
      "_view_module": "@jupyter-widgets/base",
      "_view_module_version": "1.2.0",
      "_view_name": "LayoutView",
      "align_content": null,
      "align_items": null,
      "align_self": null,
      "border": null,
      "bottom": null,
      "display": null,
      "flex": null,
      "flex_flow": null,
      "grid_area": null,
      "grid_auto_columns": null,
      "grid_auto_flow": null,
      "grid_auto_rows": null,
      "grid_column": null,
      "grid_gap": null,
      "grid_row": null,
      "grid_template_areas": null,
      "grid_template_columns": null,
      "grid_template_rows": null,
      "height": null,
      "justify_content": null,
      "justify_items": null,
      "left": null,
      "margin": null,
      "max_height": null,
      "max_width": null,
      "min_height": null,
      "min_width": null,
      "object_fit": null,
      "object_position": null,
      "order": null,
      "overflow": null,
      "overflow_x": null,
      "overflow_y": null,
      "padding": null,
      "right": null,
      "top": null,
      "visibility": null,
      "width": null
     }
    },
    "5941dce538694c5a8606b6163e602527": {
     "model_module": "@jupyter-widgets/controls",
     "model_module_version": "1.5.0",
     "model_name": "ProgressStyleModel",
     "state": {
      "_model_module": "@jupyter-widgets/controls",
      "_model_module_version": "1.5.0",
      "_model_name": "ProgressStyleModel",
      "_view_count": null,
      "_view_module": "@jupyter-widgets/base",
      "_view_module_version": "1.2.0",
      "_view_name": "StyleView",
      "bar_color": null,
      "description_width": ""
     }
    },
    "5ca9ec78cc11401b962e1cec73ec4e2d": {
     "model_module": "@jupyter-widgets/base",
     "model_module_version": "1.2.0",
     "model_name": "LayoutModel",
     "state": {
      "_model_module": "@jupyter-widgets/base",
      "_model_module_version": "1.2.0",
      "_model_name": "LayoutModel",
      "_view_count": null,
      "_view_module": "@jupyter-widgets/base",
      "_view_module_version": "1.2.0",
      "_view_name": "LayoutView",
      "align_content": null,
      "align_items": null,
      "align_self": null,
      "border": null,
      "bottom": null,
      "display": null,
      "flex": null,
      "flex_flow": null,
      "grid_area": null,
      "grid_auto_columns": null,
      "grid_auto_flow": null,
      "grid_auto_rows": null,
      "grid_column": null,
      "grid_gap": null,
      "grid_row": null,
      "grid_template_areas": null,
      "grid_template_columns": null,
      "grid_template_rows": null,
      "height": null,
      "justify_content": null,
      "justify_items": null,
      "left": null,
      "margin": null,
      "max_height": null,
      "max_width": null,
      "min_height": null,
      "min_width": null,
      "object_fit": null,
      "object_position": null,
      "order": null,
      "overflow": null,
      "overflow_x": null,
      "overflow_y": null,
      "padding": null,
      "right": null,
      "top": null,
      "visibility": null,
      "width": null
     }
    },
    "5e8ef37d9054481a847420053462ec6a": {
     "model_module": "@jupyter-widgets/controls",
     "model_module_version": "1.5.0",
     "model_name": "HBoxModel",
     "state": {
      "_dom_classes": [],
      "_model_module": "@jupyter-widgets/controls",
      "_model_module_version": "1.5.0",
      "_model_name": "HBoxModel",
      "_view_count": null,
      "_view_module": "@jupyter-widgets/controls",
      "_view_module_version": "1.5.0",
      "_view_name": "HBoxView",
      "box_style": "",
      "children": [
       "IPY_MODEL_2c58646dcbf14611870b47823d8f6269",
       "IPY_MODEL_5fbe9ba9b8934fbab3f922a699b3139d",
       "IPY_MODEL_87545721d5784ca18a96df109f4ba756"
      ],
      "layout": "IPY_MODEL_d610d43a41884c0cbc231f0990a10222"
     }
    },
    "5fbe9ba9b8934fbab3f922a699b3139d": {
     "model_module": "@jupyter-widgets/controls",
     "model_module_version": "1.5.0",
     "model_name": "FloatProgressModel",
     "state": {
      "_dom_classes": [],
      "_model_module": "@jupyter-widgets/controls",
      "_model_module_version": "1.5.0",
      "_model_name": "FloatProgressModel",
      "_view_count": null,
      "_view_module": "@jupyter-widgets/controls",
      "_view_module_version": "1.5.0",
      "_view_name": "ProgressView",
      "bar_style": "success",
      "description": "",
      "description_tooltip": null,
      "layout": "IPY_MODEL_e6f55981c41342d2a6632f91eea5f691",
      "max": 465,
      "min": 0,
      "orientation": "horizontal",
      "style": "IPY_MODEL_5941dce538694c5a8606b6163e602527",
      "value": 465
     }
    },
    "7b4ab190b744420dad4920f3693b14fc": {
     "model_module": "@jupyter-widgets/base",
     "model_module_version": "1.2.0",
     "model_name": "LayoutModel",
     "state": {
      "_model_module": "@jupyter-widgets/base",
      "_model_module_version": "1.2.0",
      "_model_name": "LayoutModel",
      "_view_count": null,
      "_view_module": "@jupyter-widgets/base",
      "_view_module_version": "1.2.0",
      "_view_name": "LayoutView",
      "align_content": null,
      "align_items": null,
      "align_self": null,
      "border": null,
      "bottom": null,
      "display": null,
      "flex": null,
      "flex_flow": null,
      "grid_area": null,
      "grid_auto_columns": null,
      "grid_auto_flow": null,
      "grid_auto_rows": null,
      "grid_column": null,
      "grid_gap": null,
      "grid_row": null,
      "grid_template_areas": null,
      "grid_template_columns": null,
      "grid_template_rows": null,
      "height": null,
      "justify_content": null,
      "justify_items": null,
      "left": null,
      "margin": null,
      "max_height": null,
      "max_width": null,
      "min_height": null,
      "min_width": null,
      "object_fit": null,
      "object_position": null,
      "order": null,
      "overflow": null,
      "overflow_x": null,
      "overflow_y": null,
      "padding": null,
      "right": null,
      "top": null,
      "visibility": null,
      "width": null
     }
    },
    "7be1f37d237b4638af0f4e49c7b2286b": {
     "model_module": "@jupyter-widgets/base",
     "model_module_version": "1.2.0",
     "model_name": "LayoutModel",
     "state": {
      "_model_module": "@jupyter-widgets/base",
      "_model_module_version": "1.2.0",
      "_model_name": "LayoutModel",
      "_view_count": null,
      "_view_module": "@jupyter-widgets/base",
      "_view_module_version": "1.2.0",
      "_view_name": "LayoutView",
      "align_content": null,
      "align_items": null,
      "align_self": null,
      "border": null,
      "bottom": null,
      "display": null,
      "flex": null,
      "flex_flow": null,
      "grid_area": null,
      "grid_auto_columns": null,
      "grid_auto_flow": null,
      "grid_auto_rows": null,
      "grid_column": null,
      "grid_gap": null,
      "grid_row": null,
      "grid_template_areas": null,
      "grid_template_columns": null,
      "grid_template_rows": null,
      "height": null,
      "justify_content": null,
      "justify_items": null,
      "left": null,
      "margin": null,
      "max_height": null,
      "max_width": null,
      "min_height": null,
      "min_width": null,
      "object_fit": null,
      "object_position": null,
      "order": null,
      "overflow": null,
      "overflow_x": null,
      "overflow_y": null,
      "padding": null,
      "right": null,
      "top": null,
      "visibility": null,
      "width": null
     }
    },
    "803b1813f7584326af33f208e1c571ad": {
     "model_module": "@jupyter-widgets/controls",
     "model_module_version": "1.5.0",
     "model_name": "HTMLModel",
     "state": {
      "_dom_classes": [],
      "_model_module": "@jupyter-widgets/controls",
      "_model_module_version": "1.5.0",
      "_model_name": "HTMLModel",
      "_view_count": null,
      "_view_module": "@jupyter-widgets/controls",
      "_view_module_version": "1.5.0",
      "_view_name": "HTMLView",
      "description": "",
      "description_tooltip": null,
      "layout": "IPY_MODEL_a67c0eeceb9548848ae030f71ceb1bba",
      "placeholder": "​",
      "style": "IPY_MODEL_9879ddec5c9243e8919cae92ae904455",
      "value": " 436k/436k [00:00&lt;00:00, 18.5MB/s]"
     }
    },
    "818674d176ae4f4db45ff49c31aa77df": {
     "model_module": "@jupyter-widgets/controls",
     "model_module_version": "1.5.0",
     "model_name": "DescriptionStyleModel",
     "state": {
      "_model_module": "@jupyter-widgets/controls",
      "_model_module_version": "1.5.0",
      "_model_name": "DescriptionStyleModel",
      "_view_count": null,
      "_view_module": "@jupyter-widgets/base",
      "_view_module_version": "1.2.0",
      "_view_name": "StyleView",
      "description_width": ""
     }
    },
    "85e2e8c1a1cf4c1d8107f1367bec96b5": {
     "model_module": "@jupyter-widgets/base",
     "model_module_version": "1.2.0",
     "model_name": "LayoutModel",
     "state": {
      "_model_module": "@jupyter-widgets/base",
      "_model_module_version": "1.2.0",
      "_model_name": "LayoutModel",
      "_view_count": null,
      "_view_module": "@jupyter-widgets/base",
      "_view_module_version": "1.2.0",
      "_view_name": "LayoutView",
      "align_content": null,
      "align_items": null,
      "align_self": null,
      "border": null,
      "bottom": null,
      "display": null,
      "flex": null,
      "flex_flow": null,
      "grid_area": null,
      "grid_auto_columns": null,
      "grid_auto_flow": null,
      "grid_auto_rows": null,
      "grid_column": null,
      "grid_gap": null,
      "grid_row": null,
      "grid_template_areas": null,
      "grid_template_columns": null,
      "grid_template_rows": null,
      "height": null,
      "justify_content": null,
      "justify_items": null,
      "left": null,
      "margin": null,
      "max_height": null,
      "max_width": null,
      "min_height": null,
      "min_width": null,
      "object_fit": null,
      "object_position": null,
      "order": null,
      "overflow": null,
      "overflow_x": null,
      "overflow_y": null,
      "padding": null,
      "right": null,
      "top": null,
      "visibility": null,
      "width": null
     }
    },
    "8751e65d72d64ddc810ecfd59f27081d": {
     "model_module": "@jupyter-widgets/controls",
     "model_module_version": "1.5.0",
     "model_name": "DescriptionStyleModel",
     "state": {
      "_model_module": "@jupyter-widgets/controls",
      "_model_module_version": "1.5.0",
      "_model_name": "DescriptionStyleModel",
      "_view_count": null,
      "_view_module": "@jupyter-widgets/base",
      "_view_module_version": "1.2.0",
      "_view_name": "StyleView",
      "description_width": ""
     }
    },
    "87545721d5784ca18a96df109f4ba756": {
     "model_module": "@jupyter-widgets/controls",
     "model_module_version": "1.5.0",
     "model_name": "HTMLModel",
     "state": {
      "_dom_classes": [],
      "_model_module": "@jupyter-widgets/controls",
      "_model_module_version": "1.5.0",
      "_model_name": "HTMLModel",
      "_view_count": null,
      "_view_module": "@jupyter-widgets/controls",
      "_view_module_version": "1.5.0",
      "_view_name": "HTMLView",
      "description": "",
      "description_tooltip": null,
      "layout": "IPY_MODEL_a7c4ce78b5914f98bd9e8359452f4a1b",
      "placeholder": "​",
      "style": "IPY_MODEL_26ff61b0067e475dbb5cccfa1141f62e",
      "value": " 465/465 [00:00&lt;00:00, 20.9kB/s]"
     }
    },
    "896d0e50464740f78dbb9ce2bd14c6a2": {
     "model_module": "@jupyter-widgets/base",
     "model_module_version": "1.2.0",
     "model_name": "LayoutModel",
     "state": {
      "_model_module": "@jupyter-widgets/base",
      "_model_module_version": "1.2.0",
      "_model_name": "LayoutModel",
      "_view_count": null,
      "_view_module": "@jupyter-widgets/base",
      "_view_module_version": "1.2.0",
      "_view_name": "LayoutView",
      "align_content": null,
      "align_items": null,
      "align_self": null,
      "border": null,
      "bottom": null,
      "display": null,
      "flex": null,
      "flex_flow": null,
      "grid_area": null,
      "grid_auto_columns": null,
      "grid_auto_flow": null,
      "grid_auto_rows": null,
      "grid_column": null,
      "grid_gap": null,
      "grid_row": null,
      "grid_template_areas": null,
      "grid_template_columns": null,
      "grid_template_rows": null,
      "height": null,
      "justify_content": null,
      "justify_items": null,
      "left": null,
      "margin": null,
      "max_height": null,
      "max_width": null,
      "min_height": null,
      "min_width": null,
      "object_fit": null,
      "object_position": null,
      "order": null,
      "overflow": null,
      "overflow_x": null,
      "overflow_y": null,
      "padding": null,
      "right": null,
      "top": null,
      "visibility": null,
      "width": null
     }
    },
    "8ad652cabd664e999980d6e11e9df90c": {
     "model_module": "@jupyter-widgets/controls",
     "model_module_version": "1.5.0",
     "model_name": "FloatProgressModel",
     "state": {
      "_dom_classes": [],
      "_model_module": "@jupyter-widgets/controls",
      "_model_module_version": "1.5.0",
      "_model_name": "FloatProgressModel",
      "_view_count": null,
      "_view_module": "@jupyter-widgets/controls",
      "_view_module_version": "1.5.0",
      "_view_name": "ProgressView",
      "bar_style": "success",
      "description": "",
      "description_tooltip": null,
      "layout": "IPY_MODEL_1bc6a9159b3148d4b3cb76e7fdf811f4",
      "max": 213450,
      "min": 0,
      "orientation": "horizontal",
      "style": "IPY_MODEL_273b586a96e2462e80b05de74fee8bd2",
      "value": 213450
     }
    },
    "9879ddec5c9243e8919cae92ae904455": {
     "model_module": "@jupyter-widgets/controls",
     "model_module_version": "1.5.0",
     "model_name": "DescriptionStyleModel",
     "state": {
      "_model_module": "@jupyter-widgets/controls",
      "_model_module_version": "1.5.0",
      "_model_name": "DescriptionStyleModel",
      "_view_count": null,
      "_view_module": "@jupyter-widgets/base",
      "_view_module_version": "1.2.0",
      "_view_name": "StyleView",
      "description_width": ""
     }
    },
    "a0b1351376264b409a602b7dfd9a2999": {
     "model_module": "@jupyter-widgets/controls",
     "model_module_version": "1.5.0",
     "model_name": "HTMLModel",
     "state": {
      "_dom_classes": [],
      "_model_module": "@jupyter-widgets/controls",
      "_model_module_version": "1.5.0",
      "_model_name": "HTMLModel",
      "_view_count": null,
      "_view_module": "@jupyter-widgets/controls",
      "_view_module_version": "1.5.0",
      "_view_name": "HTMLView",
      "description": "",
      "description_tooltip": null,
      "layout": "IPY_MODEL_50c880327e874cef9251571ffe4d4fd4",
      "placeholder": "​",
      "style": "IPY_MODEL_55f73617633a4bff9bf09b1d699d0649",
      "value": "vocab.txt: 100%"
     }
    },
    "a1e3c45545f24c5ab8b88368a89a4f2c": {
     "model_module": "@jupyter-widgets/controls",
     "model_module_version": "1.5.0",
     "model_name": "HTMLModel",
     "state": {
      "_dom_classes": [],
      "_model_module": "@jupyter-widgets/controls",
      "_model_module_version": "1.5.0",
      "_model_name": "HTMLModel",
      "_view_count": null,
      "_view_module": "@jupyter-widgets/controls",
      "_view_module_version": "1.5.0",
      "_view_name": "HTMLView",
      "description": "",
      "description_tooltip": null,
      "layout": "IPY_MODEL_896d0e50464740f78dbb9ce2bd14c6a2",
      "placeholder": "​",
      "style": "IPY_MODEL_8751e65d72d64ddc810ecfd59f27081d",
      "value": "tokenizer.json: 100%"
     }
    },
    "a2f39baa692e47599fd8ec66761c2345": {
     "model_module": "@jupyter-widgets/controls",
     "model_module_version": "1.5.0",
     "model_name": "FloatProgressModel",
     "state": {
      "_dom_classes": [],
      "_model_module": "@jupyter-widgets/controls",
      "_model_module_version": "1.5.0",
      "_model_name": "FloatProgressModel",
      "_view_count": null,
      "_view_module": "@jupyter-widgets/controls",
      "_view_module_version": "1.5.0",
      "_view_name": "ProgressView",
      "bar_style": "success",
      "description": "",
      "description_tooltip": null,
      "layout": "IPY_MODEL_44f3c3d06fa14aa19c8534fcba5ec9e0",
      "max": 435797,
      "min": 0,
      "orientation": "horizontal",
      "style": "IPY_MODEL_db81cf0521544f1a8f4f1873adfb0849",
      "value": 435797
     }
    },
    "a5bac783d5cb40e5ab1fcd06fc5a50af": {
     "model_module": "@jupyter-widgets/base",
     "model_module_version": "1.2.0",
     "model_name": "LayoutModel",
     "state": {
      "_model_module": "@jupyter-widgets/base",
      "_model_module_version": "1.2.0",
      "_model_name": "LayoutModel",
      "_view_count": null,
      "_view_module": "@jupyter-widgets/base",
      "_view_module_version": "1.2.0",
      "_view_name": "LayoutView",
      "align_content": null,
      "align_items": null,
      "align_self": null,
      "border": null,
      "bottom": null,
      "display": null,
      "flex": null,
      "flex_flow": null,
      "grid_area": null,
      "grid_auto_columns": null,
      "grid_auto_flow": null,
      "grid_auto_rows": null,
      "grid_column": null,
      "grid_gap": null,
      "grid_row": null,
      "grid_template_areas": null,
      "grid_template_columns": null,
      "grid_template_rows": null,
      "height": null,
      "justify_content": null,
      "justify_items": null,
      "left": null,
      "margin": null,
      "max_height": null,
      "max_width": null,
      "min_height": null,
      "min_width": null,
      "object_fit": null,
      "object_position": null,
      "order": null,
      "overflow": null,
      "overflow_x": null,
      "overflow_y": null,
      "padding": null,
      "right": null,
      "top": null,
      "visibility": null,
      "width": null
     }
    },
    "a67c0eeceb9548848ae030f71ceb1bba": {
     "model_module": "@jupyter-widgets/base",
     "model_module_version": "1.2.0",
     "model_name": "LayoutModel",
     "state": {
      "_model_module": "@jupyter-widgets/base",
      "_model_module_version": "1.2.0",
      "_model_name": "LayoutModel",
      "_view_count": null,
      "_view_module": "@jupyter-widgets/base",
      "_view_module_version": "1.2.0",
      "_view_name": "LayoutView",
      "align_content": null,
      "align_items": null,
      "align_self": null,
      "border": null,
      "bottom": null,
      "display": null,
      "flex": null,
      "flex_flow": null,
      "grid_area": null,
      "grid_auto_columns": null,
      "grid_auto_flow": null,
      "grid_auto_rows": null,
      "grid_column": null,
      "grid_gap": null,
      "grid_row": null,
      "grid_template_areas": null,
      "grid_template_columns": null,
      "grid_template_rows": null,
      "height": null,
      "justify_content": null,
      "justify_items": null,
      "left": null,
      "margin": null,
      "max_height": null,
      "max_width": null,
      "min_height": null,
      "min_width": null,
      "object_fit": null,
      "object_position": null,
      "order": null,
      "overflow": null,
      "overflow_x": null,
      "overflow_y": null,
      "padding": null,
      "right": null,
      "top": null,
      "visibility": null,
      "width": null
     }
    },
    "a7c4ce78b5914f98bd9e8359452f4a1b": {
     "model_module": "@jupyter-widgets/base",
     "model_module_version": "1.2.0",
     "model_name": "LayoutModel",
     "state": {
      "_model_module": "@jupyter-widgets/base",
      "_model_module_version": "1.2.0",
      "_model_name": "LayoutModel",
      "_view_count": null,
      "_view_module": "@jupyter-widgets/base",
      "_view_module_version": "1.2.0",
      "_view_name": "LayoutView",
      "align_content": null,
      "align_items": null,
      "align_self": null,
      "border": null,
      "bottom": null,
      "display": null,
      "flex": null,
      "flex_flow": null,
      "grid_area": null,
      "grid_auto_columns": null,
      "grid_auto_flow": null,
      "grid_auto_rows": null,
      "grid_column": null,
      "grid_gap": null,
      "grid_row": null,
      "grid_template_areas": null,
      "grid_template_columns": null,
      "grid_template_rows": null,
      "height": null,
      "justify_content": null,
      "justify_items": null,
      "left": null,
      "margin": null,
      "max_height": null,
      "max_width": null,
      "min_height": null,
      "min_width": null,
      "object_fit": null,
      "object_position": null,
      "order": null,
      "overflow": null,
      "overflow_x": null,
      "overflow_y": null,
      "padding": null,
      "right": null,
      "top": null,
      "visibility": null,
      "width": null
     }
    },
    "d16655f19427430f9240d5e11473945b": {
     "model_module": "@jupyter-widgets/controls",
     "model_module_version": "1.5.0",
     "model_name": "FloatProgressModel",
     "state": {
      "_dom_classes": [],
      "_model_module": "@jupyter-widgets/controls",
      "_model_module_version": "1.5.0",
      "_model_name": "FloatProgressModel",
      "_view_count": null,
      "_view_module": "@jupyter-widgets/controls",
      "_view_module_version": "1.5.0",
      "_view_name": "ProgressView",
      "bar_style": "success",
      "description": "",
      "description_tooltip": null,
      "layout": "IPY_MODEL_d2942c7eb7d14579915b07df0a6b14c7",
      "max": 29,
      "min": 0,
      "orientation": "horizontal",
      "style": "IPY_MODEL_ef4c9246eb704c08b90dd17b54dbef62",
      "value": 29
     }
    },
    "d2942c7eb7d14579915b07df0a6b14c7": {
     "model_module": "@jupyter-widgets/base",
     "model_module_version": "1.2.0",
     "model_name": "LayoutModel",
     "state": {
      "_model_module": "@jupyter-widgets/base",
      "_model_module_version": "1.2.0",
      "_model_name": "LayoutModel",
      "_view_count": null,
      "_view_module": "@jupyter-widgets/base",
      "_view_module_version": "1.2.0",
      "_view_name": "LayoutView",
      "align_content": null,
      "align_items": null,
      "align_self": null,
      "border": null,
      "bottom": null,
      "display": null,
      "flex": null,
      "flex_flow": null,
      "grid_area": null,
      "grid_auto_columns": null,
      "grid_auto_flow": null,
      "grid_auto_rows": null,
      "grid_column": null,
      "grid_gap": null,
      "grid_row": null,
      "grid_template_areas": null,
      "grid_template_columns": null,
      "grid_template_rows": null,
      "height": null,
      "justify_content": null,
      "justify_items": null,
      "left": null,
      "margin": null,
      "max_height": null,
      "max_width": null,
      "min_height": null,
      "min_width": null,
      "object_fit": null,
      "object_position": null,
      "order": null,
      "overflow": null,
      "overflow_x": null,
      "overflow_y": null,
      "padding": null,
      "right": null,
      "top": null,
      "visibility": null,
      "width": null
     }
    },
    "d610d43a41884c0cbc231f0990a10222": {
     "model_module": "@jupyter-widgets/base",
     "model_module_version": "1.2.0",
     "model_name": "LayoutModel",
     "state": {
      "_model_module": "@jupyter-widgets/base",
      "_model_module_version": "1.2.0",
      "_model_name": "LayoutModel",
      "_view_count": null,
      "_view_module": "@jupyter-widgets/base",
      "_view_module_version": "1.2.0",
      "_view_name": "LayoutView",
      "align_content": null,
      "align_items": null,
      "align_self": null,
      "border": null,
      "bottom": null,
      "display": null,
      "flex": null,
      "flex_flow": null,
      "grid_area": null,
      "grid_auto_columns": null,
      "grid_auto_flow": null,
      "grid_auto_rows": null,
      "grid_column": null,
      "grid_gap": null,
      "grid_row": null,
      "grid_template_areas": null,
      "grid_template_columns": null,
      "grid_template_rows": null,
      "height": null,
      "justify_content": null,
      "justify_items": null,
      "left": null,
      "margin": null,
      "max_height": null,
      "max_width": null,
      "min_height": null,
      "min_width": null,
      "object_fit": null,
      "object_position": null,
      "order": null,
      "overflow": null,
      "overflow_x": null,
      "overflow_y": null,
      "padding": null,
      "right": null,
      "top": null,
      "visibility": null,
      "width": null
     }
    },
    "d69d4f67c8cf4543b6fa58c4723e5253": {
     "model_module": "@jupyter-widgets/controls",
     "model_module_version": "1.5.0",
     "model_name": "HTMLModel",
     "state": {
      "_dom_classes": [],
      "_model_module": "@jupyter-widgets/controls",
      "_model_module_version": "1.5.0",
      "_model_name": "HTMLModel",
      "_view_count": null,
      "_view_module": "@jupyter-widgets/controls",
      "_view_module_version": "1.5.0",
      "_view_name": "HTMLView",
      "description": "",
      "description_tooltip": null,
      "layout": "IPY_MODEL_a5bac783d5cb40e5ab1fcd06fc5a50af",
      "placeholder": "​",
      "style": "IPY_MODEL_0372560aacae4cd893270d7620547fa7",
      "value": " 29.0/29.0 [00:00&lt;00:00, 1.46kB/s]"
     }
    },
    "da849d11a7974ce4af4162f95babcc5f": {
     "model_module": "@jupyter-widgets/controls",
     "model_module_version": "1.5.0",
     "model_name": "DescriptionStyleModel",
     "state": {
      "_model_module": "@jupyter-widgets/controls",
      "_model_module_version": "1.5.0",
      "_model_name": "DescriptionStyleModel",
      "_view_count": null,
      "_view_module": "@jupyter-widgets/base",
      "_view_module_version": "1.2.0",
      "_view_name": "StyleView",
      "description_width": ""
     }
    },
    "db81cf0521544f1a8f4f1873adfb0849": {
     "model_module": "@jupyter-widgets/controls",
     "model_module_version": "1.5.0",
     "model_name": "ProgressStyleModel",
     "state": {
      "_model_module": "@jupyter-widgets/controls",
      "_model_module_version": "1.5.0",
      "_model_name": "ProgressStyleModel",
      "_view_count": null,
      "_view_module": "@jupyter-widgets/base",
      "_view_module_version": "1.2.0",
      "_view_name": "StyleView",
      "bar_color": null,
      "description_width": ""
     }
    },
    "e6f55981c41342d2a6632f91eea5f691": {
     "model_module": "@jupyter-widgets/base",
     "model_module_version": "1.2.0",
     "model_name": "LayoutModel",
     "state": {
      "_model_module": "@jupyter-widgets/base",
      "_model_module_version": "1.2.0",
      "_model_name": "LayoutModel",
      "_view_count": null,
      "_view_module": "@jupyter-widgets/base",
      "_view_module_version": "1.2.0",
      "_view_name": "LayoutView",
      "align_content": null,
      "align_items": null,
      "align_self": null,
      "border": null,
      "bottom": null,
      "display": null,
      "flex": null,
      "flex_flow": null,
      "grid_area": null,
      "grid_auto_columns": null,
      "grid_auto_flow": null,
      "grid_auto_rows": null,
      "grid_column": null,
      "grid_gap": null,
      "grid_row": null,
      "grid_template_areas": null,
      "grid_template_columns": null,
      "grid_template_rows": null,
      "height": null,
      "justify_content": null,
      "justify_items": null,
      "left": null,
      "margin": null,
      "max_height": null,
      "max_width": null,
      "min_height": null,
      "min_width": null,
      "object_fit": null,
      "object_position": null,
      "order": null,
      "overflow": null,
      "overflow_x": null,
      "overflow_y": null,
      "padding": null,
      "right": null,
      "top": null,
      "visibility": null,
      "width": null
     }
    },
    "ecb0c0e04f0e4e0598f95a4d44ddd1d7": {
     "model_module": "@jupyter-widgets/controls",
     "model_module_version": "1.5.0",
     "model_name": "HBoxModel",
     "state": {
      "_dom_classes": [],
      "_model_module": "@jupyter-widgets/controls",
      "_model_module_version": "1.5.0",
      "_model_name": "HBoxModel",
      "_view_count": null,
      "_view_module": "@jupyter-widgets/controls",
      "_view_module_version": "1.5.0",
      "_view_name": "HBoxView",
      "box_style": "",
      "children": [
       "IPY_MODEL_f6cd970110c140a38879c761b8e3935e",
       "IPY_MODEL_d16655f19427430f9240d5e11473945b",
       "IPY_MODEL_d69d4f67c8cf4543b6fa58c4723e5253"
      ],
      "layout": "IPY_MODEL_7be1f37d237b4638af0f4e49c7b2286b"
     }
    },
    "edb20d38c6e248be9d7afcce62dd7f45": {
     "model_module": "@jupyter-widgets/base",
     "model_module_version": "1.2.0",
     "model_name": "LayoutModel",
     "state": {
      "_model_module": "@jupyter-widgets/base",
      "_model_module_version": "1.2.0",
      "_model_name": "LayoutModel",
      "_view_count": null,
      "_view_module": "@jupyter-widgets/base",
      "_view_module_version": "1.2.0",
      "_view_name": "LayoutView",
      "align_content": null,
      "align_items": null,
      "align_self": null,
      "border": null,
      "bottom": null,
      "display": null,
      "flex": null,
      "flex_flow": null,
      "grid_area": null,
      "grid_auto_columns": null,
      "grid_auto_flow": null,
      "grid_auto_rows": null,
      "grid_column": null,
      "grid_gap": null,
      "grid_row": null,
      "grid_template_areas": null,
      "grid_template_columns": null,
      "grid_template_rows": null,
      "height": null,
      "justify_content": null,
      "justify_items": null,
      "left": null,
      "margin": null,
      "max_height": null,
      "max_width": null,
      "min_height": null,
      "min_width": null,
      "object_fit": null,
      "object_position": null,
      "order": null,
      "overflow": null,
      "overflow_x": null,
      "overflow_y": null,
      "padding": null,
      "right": null,
      "top": null,
      "visibility": null,
      "width": null
     }
    },
    "ef4c9246eb704c08b90dd17b54dbef62": {
     "model_module": "@jupyter-widgets/controls",
     "model_module_version": "1.5.0",
     "model_name": "ProgressStyleModel",
     "state": {
      "_model_module": "@jupyter-widgets/controls",
      "_model_module_version": "1.5.0",
      "_model_name": "ProgressStyleModel",
      "_view_count": null,
      "_view_module": "@jupyter-widgets/base",
      "_view_module_version": "1.2.0",
      "_view_name": "StyleView",
      "bar_color": null,
      "description_width": ""
     }
    },
    "f6cd970110c140a38879c761b8e3935e": {
     "model_module": "@jupyter-widgets/controls",
     "model_module_version": "1.5.0",
     "model_name": "HTMLModel",
     "state": {
      "_dom_classes": [],
      "_model_module": "@jupyter-widgets/controls",
      "_model_module_version": "1.5.0",
      "_model_name": "HTMLModel",
      "_view_count": null,
      "_view_module": "@jupyter-widgets/controls",
      "_view_module_version": "1.5.0",
      "_view_name": "HTMLView",
      "description": "",
      "description_tooltip": null,
      "layout": "IPY_MODEL_7b4ab190b744420dad4920f3693b14fc",
      "placeholder": "​",
      "style": "IPY_MODEL_818674d176ae4f4db45ff49c31aa77df",
      "value": "tokenizer_config.json: 100%"
     }
    }
   }
  }
 },
 "nbformat": 4,
 "nbformat_minor": 5
}
